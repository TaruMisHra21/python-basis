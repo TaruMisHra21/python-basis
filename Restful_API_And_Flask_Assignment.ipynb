{
  "nbformat": 4,
  "nbformat_minor": 0,
  "metadata": {
    "colab": {
      "provenance": []
    },
    "kernelspec": {
      "name": "python3",
      "display_name": "Python 3"
    },
    "language_info": {
      "name": "python"
    }
  },
  "cells": [
    {
      "cell_type": "markdown",
      "source": [
        "# **RESTFUL API AND FLASK THEORY QUESTIONS**"
      ],
      "metadata": {
        "id": "LuSPk5wSy0Nw"
      }
    },
    {
      "cell_type": "markdown",
      "source": [
        "#1. What is a RESTful API?\n",
        "- A RESTful API (Representational State Transfer Application Programming Interface) is an architectural style for designing networked applications. It uses standard HTTP methods (like GET, POST, PUT, DELETE) to create, read, update, and delete resources, which are identified by URLs. It's a stateless protocol, meaning each request from a client to a server must contain all the information needed to understand and process the request.\n",
        "\n",
        "- **Example:** A client might send a GET request to /users/123 to retrieve information about the user with ID 123.\n",
        "\n",
        "#2. Explain the concept of API specification.\n",
        "- An API specification (or definition) is a detailed document that describes how an API works. It serves as a contract between the API provider and its consumers, detailing the available endpoints, expected request formats (parameters, headers, body), response formats, status codes, and authentication methods.\n",
        "\n",
        "- **Example:** An OpenAPI (formerly Swagger) specification is a common format for defining RESTful APIs in a machine-readable way.\n",
        "\n",
        "#3. What is Flask, and why is it popular for building APIs?\n",
        "**Flask** is a lightweight and flexible Python web framework. It is popular for building APIs because:\n",
        "\n",
        "\n",
        "- **Simplicity and Minimalism:** It provides the essentials for web development without imposing a rigid structure, making it easy to learn and quick to get started with.\n",
        "\n",
        "\n",
        "- **Flexibility:** It allows developers to choose the libraries and tools they want to use, giving them full control over the application's components.\n",
        "\n",
        "\n",
        "- **Extensibility:** It has a rich ecosystem of extensions (like Flask-RESTful and Flask-SQLAlchemy) that can be easily integrated to add functionality.\n",
        "\n",
        "#4. What is routing in Flask?\n",
        "- Routing in Flask is the mechanism that maps URLs to the specific Python functions that should handle them. When a user visits a URL in your application, Flask's routing system determines which view function to execute based on that URL pattern.\n",
        "\n",
        "- **Example:** @app.route('/home') maps the /home URL to the function defined directly below it.\n",
        "\n",
        "#5. How do you create a simple Flask application?\n",
        "You create a simple Flask application by:\n",
        "\n",
        "- Importing the Flask class.\n",
        "\n",
        "- Creating an instance of the class.\n",
        "\n",
        "- Defining a route using the @app.route() decorator.\n",
        "\n",
        "- Writing a view function that returns a response.\n",
        "\n",
        "\n",
        "\n"
      ],
      "metadata": {
        "id": "30Iwp7vFzLOZ"
      }
    },
    {
      "cell_type": "code",
      "source": [
        "#EXAMPLE:\n",
        "\n",
        "from flask import Flask\n",
        "app = Flask(__name__)\n",
        "\n",
        "@app.route('/')\n",
        "def hello_world():\n",
        "    return 'Hello, World!'"
      ],
      "metadata": {
        "id": "0YJuTVV507Gg"
      },
      "execution_count": 2,
      "outputs": []
    },
    {
      "cell_type": "markdown",
      "source": [
        "#6. What are HTTP methods used in RESTful APIs?\n",
        "HTTP methods define the action to be performed on a resource. The most common ones are:\n",
        "\n",
        "- **GET:** Retrieve a resource.\n",
        "\n",
        "- **POST:** Create a new resource.\n",
        "\n",
        "- **PUT:** Update an existing resource completely.\n",
        "\n",
        "- **PATCH:** Partially update an existing resource.\n",
        "\n",
        "- **DELETE:** Delete a resource.\n",
        "\n",
        "#7. What is the purpose of the @app.route() decorator in Flask?\n",
        "- The purpose of the @app.route() decorator is to bind a URL to a view function. It tells Flask which function should be executed when a client makes a request to a specific URL path.\n",
        "\n",
        "- **Example:** @app.route('/profile') tells Flask to call the decorated function when a request for /profile is received.\n",
        "\n",
        "#8. What is the difference between GET and POST HTTP methods?\n",
        "The main differences are:\n",
        "\n",
        "- **Purpose:** GET is used to request data from a specified resource. POST is used to send data to a server to create a resource.\n",
        "\n",
        "- **Data Location:** GET appends data to the URL in query strings, while POST sends data in the request body.\n",
        "\n",
        "- **Security:** POST is more secure than GET for sending sensitive data because the data is not visible in the URL.\n",
        "\n",
        "- **Idempotency:** GET requests are idempotent (making the same request multiple times produces the same result), whereas POST requests are not.\n",
        "\n",
        "#9. How do you handle errors in Flask APIs?\n",
        "You can handle errors in Flask using the @app.errorhandler() decorator. This allows you to define custom functions that are executed when a specific HTTP error (like 404 Not Found or 500 Internal Server Error) occurs."
      ],
      "metadata": {
        "id": "fykyL3r51PGv"
      }
    },
    {
      "cell_type": "code",
      "source": [
        "#EXAMPLE:\n",
        "\n",
        "@app.errorhandler(404)\n",
        "def page_not_found(e):\n",
        "    return \"This page does not exist.\", 404"
      ],
      "metadata": {
        "id": "kQ1PbeMm2aCd"
      },
      "execution_count": 3,
      "outputs": []
    },
    {
      "cell_type": "markdown",
      "source": [
        "#10. How do you connect Flask to a SQL database?\n",
        "You typically connect Flask to a SQL database using an extension like **Flask-SQLAlchemy**. This involves:\n",
        "\n",
        "- Configuring the database URI in your Flask app settings.\n",
        "\n",
        "- Creating an SQLAlchemy object.\n",
        "\n",
        "- Defining your database models as Python classes.\n",
        "\n",
        "#11. What is the role of Flask-SQLAlchemy?\n",
        "Flask-SQLAlchemy is an extension that simplifies the use of SQLAlchemy (a powerful SQL toolkit and ORM) in Flask applications. Its role is to handle the connection management, session configuration, and provide a declarative base for defining database models, making it much easier to interact with a SQL database.\n",
        "\n",
        "#12. What are Flask blueprints, and how are they useful?\n",
        "Flask blueprints are a way to organize a Flask application into smaller, reusable components. A blueprint defines a collection of routes, templates, and static files that can be registered with an application. They are useful for structuring larger applications by grouping related functionality, such as having separate blueprints for user authentication and for a public-facing website.\n",
        "\n",
        "#13. What is the purpose of Flask's request object?\n",
        "The purpose of the request object is to give your view functions access to the data of an incoming HTTP request. You can use it to get form data (request.form), query parameters (request.args), JSON data (request.get_json()), and information about the request method (request.method).\n",
        "\n",
        "#14. How do you create a RESTful API endpoint using Flask?\n",
        "You create a RESTful API endpoint by defining a route that responds to specific HTTP methods and typically returns data in a structured format like JSON."
      ],
      "metadata": {
        "id": "NtAdSGet2gSP"
      }
    },
    {
      "cell_type": "code",
      "source": [
        "#EXAMPLE:\n",
        "\n",
        "from flask import jsonify\n",
        "\n",
        "@app.route('/api/users', methods=['GET'])\n",
        "def get_users():\n",
        "    users = [{'id': 1, 'name': 'Alice'}, {'id': 2, 'name': 'Bob'}]\n",
        "    return jsonify(users)"
      ],
      "metadata": {
        "id": "xW10xL6o3zHq"
      },
      "execution_count": 4,
      "outputs": []
    },
    {
      "cell_type": "markdown",
      "source": [
        "#15. What is the purpose of Flask's jsonify() function?\n",
        "The jsonify() function serializes a Python dictionary or list into a JSON formatted Response object. It also correctly sets the HTTP Content-Type header to application/json, which is the standard way to return JSON data from an API.\n",
        "\n",
        "#16. Explain Flask’s url_for() function.\n",
        "- The url_for() function dynamically generates a URL for a specific view function. Instead of hardcoding URLs in your templates or code, you provide the name of the function, and url_for() builds the correct URL. This makes your application more maintainable, as changing a route in one place will automatically update all the links to it.\n",
        "\n",
        "- **Example:** url_for('user_profile', username='john') might generate the URL /user/john.\n",
        "\n",
        "#17. How does Flask handle static files (CSS, JavaScript, etc.)?\n",
        "Flask handles static files by looking for them in a special folder named static in your application's root directory. You can then generate URLs for these files using url_for('static', filename='style.css').\n",
        "\n",
        "#18. What is an API specification, and how does it help in building a Flask API?\n",
        "An API specification is a formal description of your API's endpoints and how they behave. It helps in building a Flask API by:\n",
        "\n",
        "- Serving as a clear guide for both front-end and back-end developers.\n",
        "\n",
        "- Enabling automated testing of the API.\n",
        "\n",
        "- Allowing for the automatic generation of API documentation and client libraries.\n",
        "\n",
        "#19. What are HTTP status codes, and why are they important in a Flask API?\n",
        "HTTP status codes are standard three-digit codes returned by a server in response to a client's request. They are important because they quickly inform the client about the outcome of their request. Common codes include 200 OK (success), 201 Created (resource created), 404 Not Found (resource not found), and 500 Internal Server Error.\n",
        "\n",
        "#20.  How do you handle POST requests in Flask?\n",
        "You handle POST requests by specifying methods=['POST'] in the @app.route() decorator and then accessing the incoming data (e.g., from a form or JSON body) using the request object inside your view function.\n",
        "\n",
        "#21. How would you secure a Flask API?\n",
        "You can secure a Flask API using several methods:\n",
        "\n",
        "- **Authentication:** Verifying the identity of the client, often using tokens (like JWT) or API keys. Extensions like Flask-JWT-Extended are helpful.\n",
        "\n",
        "- **Authorization:** Ensuring the client has permission to access a specific resource.\n",
        "\n",
        "- **HTTPS:** Encrypting communication between the client and server using TLS/SSL.\n",
        "\n",
        "- **Input Validation:** Validating all incoming data to prevent security vulnerabilities like SQL injection.\n",
        "\n",
        "#22. What is the significance of the Flask-RESTful extension?\n",
        "Flask-RESTful is an extension that adds support for quickly building REST APIs. Its significance lies in its ability to simplify the creation of resources, handle request parsing, and provide a structured way to build API endpoints, often with less boilerplate code than using plain Flask.\n",
        "\n",
        "#23. What is the role of Flask’s session object?\n",
        "The session object in Flask allows you to store information that is specific to a user across multiple requests. It works by storing data in a cookie on the client's browser. It's commonly used for tracking a user's logged-in state or shopping cart contents.\n",
        "\n"
      ],
      "metadata": {
        "id": "-gZu0D_Z335i"
      }
    },
    {
      "cell_type": "markdown",
      "source": [
        "# **RESTFUL API AND FLASK PRACTICAL QUESTIONS**"
      ],
      "metadata": {
        "id": "UwLIclSd5anq"
      }
    },
    {
      "cell_type": "markdown",
      "source": [
        "#1. How do you create a basic Flask application?"
      ],
      "metadata": {
        "id": "rZLr6OVU5nUK"
      }
    },
    {
      "cell_type": "code",
      "source": [
        "from flask import Flask\n",
        "\n",
        "# Create a Flask instance\n",
        "app = Flask(__name__)\n",
        "\n",
        "# Define a route\n",
        "@app.route(\"/\")\n",
        "def home():\n",
        "  return \"Hello, Flask!\"\n",
        "\n",
        "  # Run the app (for development)\n",
        "# In a real-world application, you would use a production-ready server\n",
        "if __name__ == \"__main__\":\n",
        "  app.run(debug=True)"
      ],
      "metadata": {
        "id": "4PvGrq9p_YD1"
      },
      "execution_count": null,
      "outputs": []
    },
    {
      "cell_type": "markdown",
      "source": [
        "#2. How do you serve static files like images or CSS in Flask?"
      ],
      "metadata": {
        "id": "jPWsnNCY_ZnQ"
      }
    },
    {
      "cell_type": "code",
      "source": [
        "from flask import Flask, render_template_string\n",
        "\n",
        "app = Flask(__name__)\n",
        "\n",
        "# Create a static directory and a style.css file within it.\n",
        "import os\n",
        "if not os.path.exists('static'):\n",
        "    os.makedirs('static')\n",
        "with open('static/style.css', 'w') as f:\n",
        "    f.write('body { background-color: lightblue; }')\n",
        "\n",
        "@app.route('/static-example')\n",
        "def static_page():\n",
        "    # Use url_for to generate the URL for the CSS file\n",
        "    html = \"\"\"\n",
        "    <!DOCTYPE html>\n",
        "    <html>\n",
        "    <head>\n",
        "        <title>Static File Example</title>\n",
        "        <link rel=\"stylesheet\" href=\"{{ url_for('static', filename='style.css') }}\">\n",
        "    </head>\n",
        "    <body>\n",
        "        <h1>This page has a blue background from a static CSS file.</h1>\n",
        "    </body>\n",
        "    </html>\n",
        "    \"\"\"\n",
        "    return render_template_string(html)"
      ],
      "metadata": {
        "id": "eGWuiaq-_kMk"
      },
      "execution_count": 27,
      "outputs": []
    },
    {
      "cell_type": "markdown",
      "source": [
        "#3. How do you define different routes with different HTTP methods in Flask?"
      ],
      "metadata": {
        "id": "v2eBXuSo_0WP"
      }
    },
    {
      "cell_type": "code",
      "source": [
        "from flask import Flask, request\n",
        "\n",
        "app = Flask(__name__)\n",
        "\n",
        "@app.route('/data', methods=['GET', 'POST'])\n",
        "def handle_data():\n",
        "    if request.method == 'POST':\n",
        "        return 'This was a POST request.'\n",
        "    else:\n",
        "        return 'This was a GET request.'"
      ],
      "metadata": {
        "id": "cqt50jtk_5a2"
      },
      "execution_count": 28,
      "outputs": []
    },
    {
      "cell_type": "markdown",
      "source": [
        "#4. How do you render HTML templates in Flask?"
      ],
      "metadata": {
        "id": "B39FP6ZR_7DN"
      }
    },
    {
      "cell_type": "code",
      "source": [
        "# templates/index.html\n",
        "# <!DOCTYPE html>\n",
        "# <html>\n",
        "# <body>\n",
        "#     <h1>Hello, {{ name }}!</h1>\n",
        "# </body>\n",
        "# </html>\n",
        "\n",
        "from flask import Flask, render_template\n",
        "\n",
        "app = Flask(__name__)\n",
        "\n",
        "# Create a templates directory and an index.html file within it.\n",
        "import os\n",
        "if not os.path.exists('templates'):\n",
        "    os.makedirs('templates')\n",
        "with open('templates/index.html', 'w') as f:\n",
        "    f.write('<!DOCTYPE html><html><body><h1>Hello, {{ name }}!</h1></body></html>')\n",
        "\n",
        "@app.route('/hello/<name>')\n",
        "def hello_template(name):\n",
        "    # Renders the index.html template from the 'templates' folder\n",
        "    return render_template('index.html', name=name)"
      ],
      "metadata": {
        "id": "64DOKi3XAlSM"
      },
      "execution_count": 35,
      "outputs": []
    },
    {
      "cell_type": "markdown",
      "source": [
        "#5. How can you generate URLs for routes in Flask using url_for?"
      ],
      "metadata": {
        "id": "FyB42GOlA4Az"
      }
    },
    {
      "cell_type": "code",
      "source": [
        "from flask import Flask, url_for, redirect\n",
        "\n",
        "app = Flask(__name__)\n",
        "\n",
        "@app.route('/')\n",
        "def index():\n",
        "    # Generate the URL for the 'user_profile' function\n",
        "    profile_url = url_for('user_profile', username='testuser')\n",
        "    return f'Go to the <a href=\"{profile_url}\">user profile</a>.'\n",
        "\n",
        "@app.route('/user/<username>')\n",
        "def user_profile(username):\n",
        "    return f'This is the profile for {username}.'"
      ],
      "metadata": {
        "id": "8JadK5qXA-hV"
      },
      "execution_count": 36,
      "outputs": []
    },
    {
      "cell_type": "markdown",
      "source": [
        "#6. How do you handle forms in Flask?"
      ],
      "metadata": {
        "id": "gUmVJEmTA_uw"
      }
    },
    {
      "cell_type": "code",
      "source": [
        "from flask import Flask, request, render_template_string\n",
        "\n",
        "app = Flask(__name__)\n",
        "\n",
        "form_html = \"\"\"\n",
        "<form method=\"post\">\n",
        "    <label for=\"name\">Name:</label>\n",
        "    <input type=\"text\" id=\"name\" name=\"username\">\n",
        "    <input type=\"submit\" value=\"Submit\">\n",
        "</form>\n",
        "\"\"\"\n",
        "\n",
        "@app.route('/login', methods=['GET', 'POST'])\n",
        "def login():\n",
        "    if request.method == 'POST':\n",
        "        # Access form data using request.form\n",
        "        username = request.form['username']\n",
        "        return f'Hello, {username}!'\n",
        "    return render_template_string(form_html)"
      ],
      "metadata": {
        "id": "tHCM9cbeBDWq"
      },
      "execution_count": 37,
      "outputs": []
    },
    {
      "cell_type": "markdown",
      "source": [
        "#7.  How can you validate form data in Flask?"
      ],
      "metadata": {
        "id": "h-x5pknVBHLQ"
      }
    },
    {
      "cell_type": "code",
      "source": [
        "from flask import Flask, request\n",
        "\n",
        "app = Flask(__name__)\n",
        "\n",
        "@app.route('/register', methods=['POST'])\n",
        "def register():\n",
        "    username = request.form['username']\n",
        "    password = request.form['password']\n",
        "\n",
        "    if not username or not password:\n",
        "        return 'Username and password are required!', 400\n",
        "    if len(password) < 8:\n",
        "        return 'Password must be at least 8 characters long!', 400\n",
        "\n",
        "    return 'Registration successful!'"
      ],
      "metadata": {
        "id": "eUh0ojR6BvoZ"
      },
      "execution_count": 38,
      "outputs": []
    },
    {
      "cell_type": "markdown",
      "source": [
        "#8. How do you manage sessions in Flask?"
      ],
      "metadata": {
        "id": "U_B2pNBnBw67"
      }
    },
    {
      "cell_type": "code",
      "source": [
        "from flask import Flask, session, redirect, url_for, request\n",
        "\n",
        "app = Flask(__name__)\n",
        "# A secret key is required to use sessions\n",
        "app.secret_key = 'your_secret_key_here'\n",
        "\n",
        "@app.route('/login-session')\n",
        "def login_session():\n",
        "    # Store username in the session\n",
        "    session['username'] = 'admin'\n",
        "    return 'You are now logged in.'\n",
        "\n",
        "@app.route('/profile')\n",
        "def profile():\n",
        "    # Check if the user is logged in by looking at the session\n",
        "    if 'username' in session:\n",
        "        return f\"Logged in as {session['username']}.\"\n",
        "    return 'You are not logged in.'\n",
        "\n",
        "@app.route('/logout')\n",
        "def logout():\n",
        "    # Remove username from the session\n",
        "    session.pop('username', None)\n",
        "    return redirect(url_for('profile'))"
      ],
      "metadata": {
        "id": "IHCsetCDB6aI"
      },
      "execution_count": 40,
      "outputs": []
    },
    {
      "cell_type": "markdown",
      "source": [
        "#9.  How do you redirect to a different route in Flask?"
      ],
      "metadata": {
        "id": "TZLKKnITCCFI"
      }
    },
    {
      "cell_type": "code",
      "source": [
        "from flask import Flask, redirect, url_for\n",
        "\n",
        "app = Flask(__name__)\n",
        "\n",
        "@app.route('/')\n",
        "def index_redirect():\n",
        "    # Redirect the user to the '/home' route\n",
        "    return redirect(url_for('home'))\n",
        "\n",
        "@app.route('/home')\n",
        "def home():\n",
        "    return 'This is the home page.'"
      ],
      "metadata": {
        "id": "7Li-ZPOnB_48"
      },
      "execution_count": 41,
      "outputs": []
    },
    {
      "cell_type": "markdown",
      "source": [
        "#10. How do you handle errors in Flask (e.g., 404)?"
      ],
      "metadata": {
        "id": "3dKjavQVCKAF"
      }
    },
    {
      "cell_type": "code",
      "source": [
        "from flask import Flask\n",
        "\n",
        "app = Flask(__name__)\n",
        "\n",
        "@app.errorhandler(404)\n",
        "def not_found_error(error):\n",
        "    # Return a custom response for 404 errors\n",
        "    return 'Oops! This page was not found.', 404"
      ],
      "metadata": {
        "id": "8iTmLHPqCXmK"
      },
      "execution_count": 42,
      "outputs": []
    },
    {
      "cell_type": "markdown",
      "source": [
        "#11.  How do you structure a Flask app using Blueprints?"
      ],
      "metadata": {
        "id": "AwtinN-tCZJF"
      }
    },
    {
      "cell_type": "code",
      "source": [
        "#my_blueprint.py\n",
        "from flask import Blueprint\n",
        "\n",
        "# Create a blueprint object\n",
        "example_bp = Blueprint('example_bp', __name__)\n",
        "\n",
        "@example_bp.route('/blueprint')\n",
        "def blueprint_route():\n",
        "    return \"This response is from a blueprint!\""
      ],
      "metadata": {
        "id": "LGIKL8AbDewa"
      },
      "execution_count": 47,
      "outputs": []
    },
    {
      "cell_type": "code",
      "source": [
        "#main_app.py:\n",
        "from flask import Flask\n",
        "# from my_blueprint import example_bp # In a real app, you'd import this\n",
        "\n",
        "# For this example, we define the blueprint in the same file\n",
        "from flask import Blueprint\n",
        "example_bp = Blueprint('example_bp', __name__)\n",
        "@example_bp.route('/blueprint')\n",
        "def blueprint_route():\n",
        "    return \"This response is from a blueprint!\"\n",
        "\n",
        "app = Flask(__name__)\n",
        "\n",
        "# Register the blueprint with the main app\n",
        "app.register_blueprint(example_bp)\n",
        "\n",
        "@app.route('/')\n",
        "def main_index():\n",
        "    return \"This is the main application.\""
      ],
      "metadata": {
        "id": "LzGe4z8ZDvxB"
      },
      "execution_count": 48,
      "outputs": []
    },
    {
      "cell_type": "markdown",
      "source": [
        "#12.  How do you define a custom Jinja filter in Flask?"
      ],
      "metadata": {
        "id": "WEaHaRXpCmkS"
      }
    },
    {
      "cell_type": "code",
      "source": [
        "from flask import Flask, render_template_string\n",
        "\n",
        "app = Flask(__name__)\n",
        "\n",
        "# Define the custom filter function\n",
        "def reverse_string(s):\n",
        "    return s[::-1]\n",
        "\n",
        "# Register the filter with Jinja\n",
        "app.jinja_env.filters['reverse'] = reverse_string\n",
        "\n",
        "@app.route('/filter/<text>')\n",
        "def show_filtered_text(text):\n",
        "    # Use the custom filter in a template\n",
        "    html = \"<h1>Original: {{ my_text }}</h1><h1>Reversed: {{ my_text|reverse }}</h1>\"\n",
        "    return render_template_string(html, my_text=text)"
      ],
      "metadata": {
        "id": "wN8duBSKCr9D"
      },
      "execution_count": 49,
      "outputs": []
    },
    {
      "cell_type": "markdown",
      "source": [
        "#13. How can you redirect with query parameters in Flask?"
      ],
      "metadata": {
        "id": "pYTs5BMhD5Y7"
      }
    },
    {
      "cell_type": "code",
      "source": [
        "from flask import Flask, redirect, url_for\n",
        "\n",
        "app = Flask(__name__)\n",
        "\n",
        "@app.route('/search')\n",
        "def search():\n",
        "    # Redirect to the results page with a query parameter\n",
        "    return redirect(url_for('results', query='python'))\n",
        "\n",
        "@app.route('/results')\n",
        "def results():\n",
        "    # The 'query' parameter can be accessed via request.args\n",
        "    from flask import request\n",
        "    query = request.args.get('query')\n",
        "    return f'Showing results for: {query}'"
      ],
      "metadata": {
        "id": "tp3C3YbyD9Hq"
      },
      "execution_count": 50,
      "outputs": []
    },
    {
      "cell_type": "markdown",
      "source": [
        "#14. How do you return JSON responses in Flask?"
      ],
      "metadata": {
        "id": "OnhfIAr2EAEd"
      }
    },
    {
      "cell_type": "code",
      "source": [
        "from flask import Flask, jsonify\n",
        "\n",
        "app = Flask(__name__)\n",
        "\n",
        "@app.route('/api/data')\n",
        "def get_data():\n",
        "    # Create a dictionary\n",
        "    data = {\n",
        "        'name': 'Alice',\n",
        "        'id': 123,\n",
        "        'is_active': True\n",
        "    }\n",
        "    # Use jsonify to return a proper JSON response\n",
        "    return jsonify(data)"
      ],
      "metadata": {
        "id": "hT9n4OtLEHLa"
      },
      "execution_count": 51,
      "outputs": []
    },
    {
      "cell_type": "markdown",
      "source": [
        "#15. How do you capture URL parameters in Flask?"
      ],
      "metadata": {
        "id": "GdnVczfFEKPv"
      }
    },
    {
      "cell_type": "code",
      "source": [
        "from flask import Flask\n",
        "\n",
        "app = Flask(__name__)\n",
        "\n",
        "# The <username> part captures a value from the URL\n",
        "@app.route('/user/<username>')\n",
        "def show_user_profile(username):\n",
        "    # The captured value is passed as an argument to the function\n",
        "    return f'Profile for user: {username}'\n",
        "\n",
        "# You can also specify the type, e.g., <int:post_id>\n",
        "@app.route('/post/<int:post_id>')\n",
        "def show_post(post_id):\n",
        "    return f'Showing post number {post_id}'"
      ],
      "metadata": {
        "id": "Fh__VS96EPqP"
      },
      "execution_count": 52,
      "outputs": []
    }
  ]
}