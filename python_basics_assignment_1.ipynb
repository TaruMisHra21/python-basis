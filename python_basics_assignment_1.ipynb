{
  "nbformat": 4,
  "nbformat_minor": 0,
  "metadata": {
    "colab": {
      "provenance": []
    },
    "kernelspec": {
      "name": "python3",
      "display_name": "Python 3"
    },
    "language_info": {
      "name": "python"
    }
  },
  "cells": [
    {
      "cell_type": "markdown",
      "source": [
        "1. What is python, and why is it popular?\n",
        " - Python is a high-level, interpreted, general-purpose programming language.\n",
        "   It is known for its design philosophy that emphasizes code readability,\n",
        "   notably using significant indentation. It supports multiple programming\n",
        "   paradigms, including structured, object-oriented, and functional programming.\n",
        "   \n",
        "   Python is popular for a wide variety of purposes because it's simple,\n",
        "   versatile, and has a massive ecosystem of libraries. Some of the main areas\n",
        "   where Python shines are:\n",
        "\n",
        "   Data Science & Analytics - Used for analyzing data, building dashboards, and\n",
        "   performing statistical computations with libraries like Pandas, NumPy,\n",
        "   Matplotlib, Seaborn.\n",
        "\n",
        "   Machine Learning & AI - Core language for AI because of frameworks like\n",
        "   TensorFlow, PyTorch, scikit-learn, and its ease in handling large datasets.\n",
        "\n",
        "   Web Development - Web frameworks like Django and Flask make building websites\n",
        "   fast and scalable.\n",
        "\n",
        "   Automation & Scripting - Perfect for automating repetitive tasks like file\n",
        "   handling, web scraping, and report generation.\n",
        "\n",
        "   Game Development - Used in lightweight game building with libraries like\n",
        "   Pygame.\n",
        "\n",
        "   Cybersecurity & Ethical Hacking - Widely used for security tools, penetration\n",
        "   testing, and network analysis.\n",
        "\n",
        "   Scientific & Research Applications - Preferred in academia for simulations,\n",
        "   bioinformatics, and mathematical modeling.\n",
        "\n",
        "   IoT & Embedded Systems - Runs on microcontrollers using MicroPython and\n",
        "   CircuitPython.\n",
        "\n",
        "2. What is an interpreter in Python?\n",
        "- A Python interpreter is a program that executes Python code. Unlike a\n",
        "  compiler, which translates the entire source code into machine code before\n",
        "  execution, an interpreter reads the code line by line, translates it into\n",
        "  an intermediate form called bytecode, and then the Python Virtual Machine\n",
        "  (PVM) executes that bytecode. This line-by-line execution makes debugging\n",
        "  easier and allows for dynamic typing.\n",
        "\n",
        "3. What are pre-defined keywords in Python?\n",
        "- Pre-defined keywords are reserved words in the Python language that have a\n",
        "  special meaning and purpose. They cannot be used as names for variables,\n",
        "  functions, or any other identifiers. Examples include if, else, for, while,\n",
        "  def, class, import, return, True, False, and None.\n",
        "\n",
        "4. Can keywords be used as variable names?\n",
        "- No, keywords cannot be used as variable names. Attempting to assign a value\n",
        "  to a keyword will result in a SyntaxError.\n",
        "   For example, the following code is invalid:\n",
        "     \n",
        "     This will raise a SyntaxError\n",
        "      for = 5\n",
        "  \n",
        "5. What is mutability in Python?\n",
        "- Mutability refers to whether an object's state or content can be changed\n",
        "  after it has been created.\n",
        "- Mutable objects can be modified in-place after creation.\n",
        "  \n",
        "  Examples include\n",
        "   \n",
        "  lists, dictionaries, and sets.\n",
        "    \n",
        "  my_list = [1, 2, 3]\n",
        "    \n",
        "  my_list[0] = 100 # The original list object is changed\n",
        "    \n",
        "  print(my_list) # Output: [100, 2, 3]\n",
        "\n",
        "- Immutable objects cannot be modified after creation. Any operation that\n",
        "  appears to modify them actually creates a new object.\n",
        "  \n",
        "  Examples include\n",
        "  \n",
        "  integers, floats, strings, and tuples.\n",
        "  \n",
        "  my_string = \"hello\"\n",
        "  \n",
        "  my_string.upper() # This creates a new string \"HELLO\"\n",
        "  \n",
        "  print(my_string) # Output: \"hello\" (the original is unchanged)\n",
        "\n",
        "6. Why are lists mutable, but tuples are immutable?\n",
        "- This is a fundamental design choice in Python that provides programmers with\n",
        "  two different types of sequence containers for different use cases.\n",
        "- Lists (list) are designed to be dynamic collections whose elements can be\n",
        "  frequently changed, added, or removed. Their mutability allows these\n",
        "  operations to be performed efficiently in-place without creating a new\n",
        "  list object for every modification.\n",
        "- Tuples (tuple) are designed to be fixed, unchangeable collections. Their\n",
        "  immutability offers several advantages:\n",
        "- Data Integrity: It ensures that the data within the tuple cannot be\n",
        "  accidentally altered.\n",
        "- Performance: Tuples are generally slightly faster and more memory-efficient\n",
        "  than lists.\n",
        "- Dictionary Keys: Because they are immutable, tuples are \"hashable\" and can\n",
        "  be used as keys in a dictionary, whereas mutable lists cannot.\n",
        "\n",
        "7. What is the difference between \"==\" and \"is\" operators in Python?\n",
        "- \"==\" (Equality Operator): This operator compares the values of two objects.\n",
        "\n",
        "  It returns True if the objects have the same content.\n",
        "   \n",
        "  list_a = [1, 2, 3]\n",
        "   \n",
        "  list_b = [1, 2, 3]\n",
        "   \n",
        "  print(list_a == list_b) # Output: True (values are the same)\n",
        "\n",
        "- \"is\" (Identity Operator): This operator compares the identity of two objects.\n",
        "   \n",
        "  It returns True only if two variables point to the exact same object in\n",
        "  memory.\n",
        "   \n",
        "  list_a = [1, 2, 3]\n",
        "   \n",
        "  list_b = [1, 2, 3]\n",
        "\n",
        "  print(list_a is list_b) # Output: False (they are two different objects)\n",
        "\n",
        "  list_c = list_a\n",
        "  \n",
        "  print(list_a is list_c) # Output: True (both point to the same object)\n",
        "\n",
        "8. What are logical operators in Python?\n",
        "- Logical operators are used to combine or modify boolean expressions.\n",
        "  \n",
        "Python has three logical operators:\n",
        "- AND: Returns True if both the left and right operands are true.\n",
        "- OR: Returns True if at least one of the operands is true.\n",
        "- NOT: Inverts the boolean value. It returns True if the operand is false, and  False if it's true.\n",
        "\n",
        "9.What is type casting in Python?\n",
        "- Type casting (or type conversion) is the process of converting a variable\n",
        "  from one data type to another. This is done using built-in functions like\n",
        "  int(), float(), str(), list(), etc., which attempt to create a new object of\n",
        "  the specified type from the given value.\n",
        "  num_string = \"123\"\n",
        "  num_integer = int(num_string) # Casts string to integer\n",
        "\n",
        "  print(num_integer + 7) # Output: 130\n",
        "\n",
        "10. What is the difference between implicit and explicit type casting?\n",
        "- Implicit Type Casting (Coercion): This conversion is performed\n",
        "  automatically by the Python interpreter. When you perform an operation\n",
        "  involving two different data types, Python automatically converts the\n",
        "  smaller data type to the larger one to avoid data loss.\n",
        "\n",
        "  result = 5 + 2.5 # Python implicitly converts the integer 5 to float 5.0\n",
        "  \n",
        "  print(result) # Output: 7.5\n",
        "\n",
        "- Explicit Type Casting: This conversion is performed manually by the\n",
        "  programmer using built-in functions. You explicitly tell the program to\n",
        "  convert a data type.\n",
        "  \n",
        "  num_string = \"100\"\n",
        "  \n",
        "  num_int = int(num_string) # Explicitly casting string to integer\n",
        "  \n",
        "  print(type(num_int)) # Output: <class 'int'>\n",
        "\n",
        "11. What is the purpose of conditional statements in Python?\n",
        "- The purpose of conditional statements (if, elif, else) is to control the\n",
        "  flow of a program's execution. They allow the program to make decisions and\n",
        "  execute specific blocks of code only when certain conditions are met\n",
        "  (i.e., evaluate to True), enabling dynamic and responsive behavior\n",
        "\n",
        "12. How does the elif statement work?\n",
        "- elif stands for \"else if\". It is used in an if-elif-else structure to check\n",
        "  for multiple conditions sequentially.\n",
        "  Python first checks the if condition. If it's True, its code block is\n",
        "  executed, and the entire structure is exited.\n",
        "  If the if condition is False, Python proceeds to check the first elif\n",
        "  condition. If it's True, its block is executed, and the structure is exited.\n",
        "  This process continues for any subsequent elif statements.\n",
        "  If all if and elif conditions are False, the code block inside the optional\n",
        "  else statement is executed.\n",
        "\n",
        "13. What is the difference between for and while loops?\n",
        "- The main difference lies in how they determine the number of times to run.\n",
        "- for loop: A for loop is used for definite iteration. It iterates over a sequence (like a list, tuple, or string) or any other iterable object. You use it when you want to execute a block of code for each item in a collection or for a known number of times.\n",
        "  \n",
        "  Iterates through each fruit in the list\n",
        "  \n",
        "     fruits = [\"apple\", \"banana\", \"cherry\"]\n",
        "  \n",
        "     for fruit in fruits:\n",
        "  \n",
        "     print(fruit)\n",
        "\n",
        "-while loop: A while loop is used for indefinite iteration. It continues to execute a block of code as long as a specified condition remains True. You use it when you don't know in advance how many times the loop needs to run.\n",
        "  \n",
        "  Runs until count is no longer less than 5\n",
        "\n",
        "     count = 0\n",
        "\n",
        "     while count < 5:\n",
        "\n",
        "     print(count)\n",
        "\n",
        "     count += 1\n",
        "\n",
        "14. Describe a scenario where a while loop is more suitable than a for loop.\n",
        "- A while loop is more suitable in situations where the number of iterations  \n",
        "  is unknown and depends on a condition that might change during execution.\n",
        "  \n",
        "  Scenario: User Input Validation\n",
        "  \n",
        "  A classic example is prompting a user for input until they provide a valid response. You don't know if the user will get it right on the first, second, or tenth attempt.\n",
        "  \n",
        "  Keep asking the user for a positive number until they enter one.\n",
        "  user_input = \"\"\n",
        "  \n",
        "  while not user_input.isdigit() or int(user_input) <= 0:\n",
        "  \n",
        "  user_input = input(\"Please enter a positive number: \")\n",
        "  \n",
        "  if not user_input.isdigit() or int(user_input) <= 0:\n",
        "  \n",
        "  print(\"Invalid input. Please try again.\")\n",
        "\n",
        "  number = int(user_input)\n",
        "  \n",
        "  print(f\"Thank you! You entered the positive number: {number}\")\n",
        "\n",
        "In this case, a for loop would be impractical because there's no sequence to iterate over; the loop's continuation depends entirely on the user's input.\n",
        "\n",
        "\n",
        "\n",
        "\n",
        "\n",
        "\n",
        "\n"
      ],
      "metadata": {
        "id": "pZz4XGgzs7qe"
      }
    },
    {
      "cell_type": "code",
      "source": [
        "#1. Write a python program to print \"Hello, World!\"\n",
        "\n",
        "print(\"Hello, World!\")"
      ],
      "metadata": {
        "colab": {
          "base_uri": "https://localhost:8080/"
        },
        "id": "QRQ2A8nRDBhj",
        "outputId": "1b754be2-a77f-403f-f932-9f523ea3f40c"
      },
      "execution_count": 3,
      "outputs": [
        {
          "output_type": "stream",
          "name": "stdout",
          "text": [
            "Hello, World!\n"
          ]
        }
      ]
    },
    {
      "cell_type": "code",
      "source": [
        "#2. Write a python program that displays your name and age.\n",
        "\n",
        "name = \"Taru\"\n",
        "age = 25\n",
        "print(f\"My name is {name} and I am {age} years old.\")"
      ],
      "metadata": {
        "colab": {
          "base_uri": "https://localhost:8080/"
        },
        "id": "VR5UE313EM7X",
        "outputId": "71daab33-9a18-4114-8707-a789fb31a80a"
      },
      "execution_count": 4,
      "outputs": [
        {
          "output_type": "stream",
          "name": "stdout",
          "text": [
            "My name is Taru and I am 25 years old.\n"
          ]
        }
      ]
    },
    {
      "cell_type": "code",
      "source": [
        "'''3. Write code to print all the pre-defined keywords in Python using the\n",
        "      keyword library'''\n",
        "\n",
        "import keyword\n",
        "print(keyword.kwlist)"
      ],
      "metadata": {
        "colab": {
          "base_uri": "https://localhost:8080/"
        },
        "id": "NZIMoGDdE9u4",
        "outputId": "7ac8f46b-bfbe-4039-af1d-cd6ebdf76d61"
      },
      "execution_count": 13,
      "outputs": [
        {
          "output_type": "stream",
          "name": "stdout",
          "text": [
            "['False', 'None', 'True', 'and', 'as', 'assert', 'async', 'await', 'break', 'class', 'continue', 'def', 'del', 'elif', 'else', 'except', 'finally', 'for', 'from', 'global', 'if', 'import', 'in', 'is', 'lambda', 'nonlocal', 'not', 'or', 'pass', 'raise', 'return', 'try', 'while', 'with', 'yield']\n"
          ]
        }
      ]
    },
    {
      "cell_type": "code",
      "source": [
        "#4. Write a program that checks if a given word is a Python keyword\n",
        "import keyword\n",
        "word = \"class\"\n",
        "if keyword.iskeyword(word):\n",
        "    print(f\"{word} is a Python keyword.\")\n",
        "else:\n",
        "    print(f\"{word} is not a Python keyword.\")"
      ],
      "metadata": {
        "colab": {
          "base_uri": "https://localhost:8080/"
        },
        "id": "TfBMfSXrHrWc",
        "outputId": "6553f76a-aa7e-42d0-be89-29b4ab8d694e"
      },
      "execution_count": 16,
      "outputs": [
        {
          "output_type": "stream",
          "name": "stdout",
          "text": [
            "class is a Python keyword.\n"
          ]
        }
      ]
    },
    {
      "cell_type": "code",
      "source": [
        "'''5.  Create a list and tuple in Python, and demonstrate how attempting to\n",
        "change an element works differently for each.'''\n",
        "# Creating a list and a tuple\n",
        "my_list = [1, 2, 3]\n",
        "my_tuple = (1, 2, 3)\n",
        "\n",
        "# Changing an element in the list (works fine)\n",
        "my_list[1] = 2\n",
        "print(\"Modified list:\", my_list)   # [1, 2, 3]\n",
        "\n",
        "# Trying to change an element in the tuple (causes an error)\n",
        "try:\n",
        "    my_tuple[1] = 2\n",
        "except TypeError as e:\n",
        "    print(\"Error when modifying tuple:\", e)\n"
      ],
      "metadata": {
        "colab": {
          "base_uri": "https://localhost:8080/"
        },
        "id": "k3yg41abKotV",
        "outputId": "58f7e01a-72bb-4fa7-c63d-3e2b523bdfa7"
      },
      "execution_count": 33,
      "outputs": [
        {
          "output_type": "stream",
          "name": "stdout",
          "text": [
            "Modified list: [1, 2, 3]\n",
            "Error when modifying tuple: 'tuple' object does not support item assignment\n"
          ]
        }
      ]
    },
    {
      "cell_type": "code",
      "source": [
        "'''6.  Write a function to demonstrate the behavior of mutable and immutable\n",
        "     #arguments.'''\n",
        "def modify_data(num, my_list):\n",
        "    # Trying to change the integer (immutable)\n",
        "    num += 10  # Creates a new integer, doesn't affect the original outside\n",
        "\n",
        "    # Trying to change the list (mutable)\n",
        "    my_list.append(100)  # Modifies the original list in place\n",
        "\n",
        "    print(\"Inside function - num:\", num)\n",
        "    print(\"Inside function - list:\", my_list)\n",
        "\n",
        "# Immutable argument (integer)\n",
        "x = 5\n",
        "# Mutable argument (list)\n",
        "y = [1, 2, 3]\n",
        "\n",
        "print(\"Before function call - x:\", x)\n",
        "print(\"Before function call - y:\", y)\n",
        "\n",
        "modify_data(x, y)\n",
        "\n",
        "print(\"After function call - x:\", x)   # unchanged\n",
        "print(\"After function call - y:\", y)   # changed"
      ],
      "metadata": {
        "colab": {
          "base_uri": "https://localhost:8080/"
        },
        "id": "qhOKaTATNEdN",
        "outputId": "fa7ffb83-6e3f-40f2-9914-34f32617aa16"
      },
      "execution_count": 36,
      "outputs": [
        {
          "output_type": "stream",
          "name": "stdout",
          "text": [
            "Before function call - x: 5\n",
            "Before function call - y: [1, 2, 3]\n",
            "Inside function - num: 15\n",
            "Inside function - list: [1, 2, 3, 100]\n",
            "After function call - x: 5\n",
            "After function call - y: [1, 2, 3, 100]\n"
          ]
        }
      ]
    },
    {
      "cell_type": "code",
      "source": [
        "'''7. Write a program that performs basic arithmetic operations on two\n",
        "user-input numbers.'''\n",
        "\n",
        "# Taking input from the user\n",
        "num1 = float(input(\"Enter the first number: \"))\n",
        "num2 = float(input(\"Enter the second number: \"))\n",
        "\n",
        "# Performing operations\n",
        "addition = num1 + num2\n",
        "subtraction = num1 - num2\n",
        "multiplication = num1 * num2\n",
        "\n",
        "# Handling division carefully to avoid division by zero\n",
        "if num2 != 0:\n",
        "    division = num1 / num2\n",
        "else:\n",
        "    division = \"Undefined (division by zero)\"\n",
        "\n",
        "# Displaying results\n",
        "print(\"\\n--- Arithmetic Results ---\")\n",
        "print(\"Addition:\", addition)\n",
        "print(\"Subtraction:\", subtraction)\n",
        "print(\"Multiplication:\", multiplication)\n",
        "print(\"Division:\", division)\n",
        "\n"
      ],
      "metadata": {
        "colab": {
          "base_uri": "https://localhost:8080/"
        },
        "id": "TW8l7jmHNngx",
        "outputId": "3293866b-fb28-4622-a689-13f5ba5eaa83"
      },
      "execution_count": 37,
      "outputs": [
        {
          "output_type": "stream",
          "name": "stdout",
          "text": [
            "Enter the first number: 20\n",
            "Enter the second number: 20\n",
            "\n",
            "--- Arithmetic Results ---\n",
            "Addition: 40.0\n",
            "Subtraction: 0.0\n",
            "Multiplication: 400.0\n",
            "Division: 1.0\n"
          ]
        }
      ]
    },
    {
      "cell_type": "code",
      "source": [
        "#8.  Write a program to demonstrate the use of logical operators.\n",
        "\n",
        "# Taking input from the user\n",
        "x = int(input(\"Enter first number: \"))\n",
        "y = int(input(\"Enter second number: \"))\n",
        "\n",
        "print(\"\\n--- Logical Operators Demonstration ---\")\n",
        "\n",
        "# and operator\n",
        "print(f\"({x} > 0) and ({y} > 0) →\", (x > 0) and (y > 0))\n",
        "\n",
        "# or operator\n",
        "print(f\"({x} > 0) or ({y} > 0) →\", (x > 0) or (y > 0))\n",
        "\n",
        "# not operator\n",
        "print(f\"not({x} > 0) →\", not(x > 0))\n"
      ],
      "metadata": {
        "colab": {
          "base_uri": "https://localhost:8080/"
        },
        "id": "xc4yadMpOAiD",
        "outputId": "531b6807-12c3-4f89-b817-ada3c66cfc0f"
      },
      "execution_count": 38,
      "outputs": [
        {
          "output_type": "stream",
          "name": "stdout",
          "text": [
            "Enter first number: 3\n",
            "Enter second number: 8\n",
            "\n",
            "--- Logical Operators Demonstration ---\n",
            "(3 > 0) and (8 > 0) → True\n",
            "(3 > 0) or (8 > 0) → True\n",
            "not(3 > 0) → False\n"
          ]
        }
      ]
    },
    {
      "cell_type": "code",
      "source": [
        "'''9. Write a Python program to convert user input from string to integer,\n",
        "      float, and boolean types.'''\n",
        "\n",
        "# Taking input from user (string by default)\n",
        "user_input = input(\"Enter a value: \")\n",
        "\n",
        "print(\"\\n--- Type Conversions ---\")\n",
        "\n",
        "# String (original)\n",
        "print(\"As String:\", user_input, \"| Type:\", type(user_input))\n",
        "\n",
        "# String to Integer (only works if input is numeric)\n",
        "try:\n",
        "    int_value = int(user_input)\n",
        "    print(\"As Integer:\", int_value, \"| Type:\", type(int_value))\n",
        "except ValueError:\n",
        "    print(\"Cannot convert to Integer\")\n",
        "\n",
        "# String to Float (works if input is numeric with decimals)\n",
        "try:\n",
        "    float_value = float(user_input)\n",
        "    print(\"As Float:\", float_value, \"| Type:\", type(float_value))\n",
        "except ValueError:\n",
        "    print(\"Cannot convert to Float\")\n",
        "\n",
        "# String to Boolean\n",
        "# Note: In Python, non-empty strings are True, empty string is False\n",
        "bool_value = bool(user_input)\n",
        "print(\"As Boolean:\", bool_value, \"| Type:\", type(bool_value))\n",
        "\n",
        "\n"
      ],
      "metadata": {
        "colab": {
          "base_uri": "https://localhost:8080/"
        },
        "id": "Fsxw_Y4uOWjr",
        "outputId": "d295047b-d537-4e84-ef22-c845c3fef7c4"
      },
      "execution_count": 40,
      "outputs": [
        {
          "output_type": "stream",
          "name": "stdout",
          "text": [
            "Enter a value: taru\n",
            "\n",
            "--- Type Conversions ---\n",
            "As String: taru | Type: <class 'str'>\n",
            "Cannot convert to Integer\n",
            "Cannot convert to Float\n",
            "As Boolean: True | Type: <class 'bool'>\n"
          ]
        }
      ]
    },
    {
      "cell_type": "code",
      "source": [
        "#10. Write code to demonstrate type casting with list elements.\n",
        "\n",
        "# Original list (all strings)\n",
        "string_list = [\"1\", \"2\", \"3\", \"4.5\", \"5\"]\n",
        "\n",
        "print(\"Original list:\", string_list)\n",
        "\n",
        "# Convert each element to integer (only if possible)\n",
        "int_list = []\n",
        "for item in string_list:\n",
        "    try:\n",
        "        int_list.append(int(float(item)))  # Handles decimal strings too\n",
        "    except ValueError:\n",
        "        int_list.append(None)  # Use None for non-convertible values\n",
        "\n",
        "print(\"List with integers:\", int_list)\n",
        "\n",
        "# Convert each element to float\n",
        "float_list = [float(item) for item in string_list]\n",
        "print(\"List with floats:\", float_list)\n",
        "\n",
        "# Convert each element to boolean\n",
        "bool_list = [bool(item) for item in string_list]\n",
        "print(\"List with booleans:\", bool_list)\n"
      ],
      "metadata": {
        "colab": {
          "base_uri": "https://localhost:8080/"
        },
        "id": "a3RB04MRO9gR",
        "outputId": "f6e095d1-e652-40ed-abf2-4f345969ed6a"
      },
      "execution_count": 41,
      "outputs": [
        {
          "output_type": "stream",
          "name": "stdout",
          "text": [
            "Original list: ['1', '2', '3', '4.5', '5']\n",
            "List with integers: [1, 2, 3, 4, 5]\n",
            "List with floats: [1.0, 2.0, 3.0, 4.5, 5.0]\n",
            "List with booleans: [True, True, True, True, True]\n"
          ]
        }
      ]
    },
    {
      "cell_type": "code",
      "source": [
        "#11. Write a program that checks if a number is positive, negative, or zero.\n",
        "\n",
        "# Taking input from the user\n",
        "num = float(input(\"Enter a number: \"))\n",
        "\n",
        "# Checking the condition\n",
        "if num > 0:\n",
        "    print(\"The number is Positive.\")\n",
        "elif num < 0:\n",
        "    print(\"The number is Negative.\")\n",
        "else:\n",
        "    print(\"The number is Zero.\")\n"
      ],
      "metadata": {
        "colab": {
          "base_uri": "https://localhost:8080/"
        },
        "id": "1NYpJYhBPPHA",
        "outputId": "da4f225e-b7c4-46c3-84a5-09526d0de4c2"
      },
      "execution_count": 43,
      "outputs": [
        {
          "output_type": "stream",
          "name": "stdout",
          "text": [
            "Enter a number: -8\n",
            "The number is Negative.\n"
          ]
        }
      ]
    },
    {
      "cell_type": "code",
      "source": [
        "#12. Write a for loop to print numbers from 1 to 10.\n",
        "\n",
        "for i in range(1, 11):\n",
        "    print(i)\n"
      ],
      "metadata": {
        "colab": {
          "base_uri": "https://localhost:8080/"
        },
        "id": "bwu3Sh-cPoFg",
        "outputId": "7c775a86-1b15-4a93-b5a7-3108c7129911"
      },
      "execution_count": 44,
      "outputs": [
        {
          "output_type": "stream",
          "name": "stdout",
          "text": [
            "1\n",
            "2\n",
            "3\n",
            "4\n",
            "5\n",
            "6\n",
            "7\n",
            "8\n",
            "9\n",
            "10\n"
          ]
        }
      ]
    },
    {
      "cell_type": "code",
      "source": [
        "'''13.  Write a Python program to find the sum of all even numbers between 1\n",
        "        and 50'''\n",
        "\n",
        "total = 0\n",
        "\n",
        "for num in range(1, 51):\n",
        "    if num % 2 == 0:  # check if number is even\n",
        "        total += num\n",
        "\n",
        "print(\"Sum of even numbers between 1 and 50:\", total)\n"
      ],
      "metadata": {
        "colab": {
          "base_uri": "https://localhost:8080/"
        },
        "id": "o8l7x3UvPz06",
        "outputId": "0febb276-0a8b-4878-85a1-7a5af1d5313e"
      },
      "execution_count": 45,
      "outputs": [
        {
          "output_type": "stream",
          "name": "stdout",
          "text": [
            "Sum of even numbers between 1 and 50: 650\n"
          ]
        }
      ]
    },
    {
      "cell_type": "code",
      "source": [
        "#14. Write a program to reverse a string using a while loop\n",
        "\n",
        "# Take input from the user\n",
        "text = input(\"Enter a string: \")\n",
        "\n",
        "# Initialize variables\n",
        "reversed_text = \"\"\n",
        "index = len(text) - 1\n",
        "\n",
        "# Loop from last character to first\n",
        "while index >= 0:\n",
        "    reversed_text += text[index]\n",
        "    index -= 1\n",
        "\n",
        "# Display result\n",
        "print(\"Reversed string:\", reversed_text)\n"
      ],
      "metadata": {
        "colab": {
          "base_uri": "https://localhost:8080/"
        },
        "id": "S29d-BIyP6Pf",
        "outputId": "aa4d3f9c-31d8-48ca-8382-31feb53d3b81"
      },
      "execution_count": 46,
      "outputs": [
        {
          "output_type": "stream",
          "name": "stdout",
          "text": [
            "Enter a string: TARU\n",
            "Reversed string: URAT\n"
          ]
        }
      ]
    },
    {
      "cell_type": "code",
      "source": [
        "'''15.Write a Python program to calculate the factorial of a number provided by\n",
        "      the user using a while loop.'''\n",
        "\n",
        "# Take input from user\n",
        "num = int(input(\"Enter a number: \"))\n",
        "\n",
        "# Initialize variables\n",
        "factorial = 1\n",
        "i = 1\n",
        "\n",
        "# Calculate factorial\n",
        "while i <= num:\n",
        "    factorial *= i\n",
        "    i += 1\n",
        "\n",
        "# Display result\n",
        "print(f\"Factorial of {num} is {factorial}\")\n"
      ],
      "metadata": {
        "colab": {
          "base_uri": "https://localhost:8080/"
        },
        "id": "8RJs7H8mQm26",
        "outputId": "6e983895-32eb-4b97-fafa-54022127390d"
      },
      "execution_count": 47,
      "outputs": [
        {
          "output_type": "stream",
          "name": "stdout",
          "text": [
            "Enter a number: 9\n",
            "Factorial of 9 is 362880\n"
          ]
        }
      ]
    }
  ]
}