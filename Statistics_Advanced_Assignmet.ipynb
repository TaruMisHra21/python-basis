{
  "nbformat": 4,
  "nbformat_minor": 0,
  "metadata": {
    "colab": {
      "provenance": []
    },
    "kernelspec": {
      "name": "python3",
      "display_name": "Python 3"
    },
    "language_info": {
      "name": "python"
    }
  },
  "cells": [
    {
      "cell_type": "markdown",
      "source": [
        "# **STATISTICS ADVANCED QUESTIONS**"
      ],
      "metadata": {
        "id": "daZPmWfgHcfr"
      }
    },
    {
      "cell_type": "markdown",
      "source": [
        "#1. What is a random variable in probability theory?\n",
        "A random variable is a variable whose value is a numerical outcome of a random phenomenon. In other words, it is a function that assigns a numerical value to each possible outcome in a sample space. For example, if we flip a coin, the random variable could be the number of heads, which can take the value 0 or 1.\n",
        "\n",
        "#2. What are the types of random variables?\n",
        "There are two main types of random variables:\n",
        "\n",
        "- Discrete Random Variable: A variable that can only take on a finite or countably infinite number of distinct values. The values are often integers.\n",
        "\n",
        "  - **Example:** The number of heads in three coin flips (can be 0, 1, 2, or 3). The number of defective items in a batch.\n",
        "\n",
        "- Continuous Random Variable: A variable that can take on any value within a given range.\n",
        "\n",
        "  - **Example:** The height of a student, the temperature of a room, or the time it takes to run a race.\n",
        "\n",
        "#3. Explain the difference between discrete and continuous distributions.\n",
        "The difference lies in the nature of the random variable they describe:\n",
        "\n",
        "- **Discrete Distribution:** This describes the probability of occurrence for each possible value of a discrete random variable. The probabilities can be represented by a probability mass function (PMF), and the sum of all probabilities is exactly 1.\n",
        "\n",
        "  - **Example:** The Binomial distribution, which models the number of successes in a fixed number of trials.\n",
        "\n",
        "- **Continuous Distribution:** This describes the probabilities for a continuous random variable. Since the variable can take on an infinite number of values, the probability of any single specific value is zero. Instead, probability is defined over a range of values using a probability density function (PDF). The total area under the PDF curve is exactly 1.\n",
        "\n",
        "  - **Example:** The Normal distribution (bell curve), which models continuous data like height or blood pressure.\n",
        "\n",
        "#4. What is a binomial distribution, and how is it used in probability?\n",
        "A **binomial distribution** is a discrete probability distribution that models the number of successes in a fixed number of independent trials, where each trial has only two possible outcomes (success or failure) and the probability of success is constant for each trial.\n",
        "\n",
        "It is used in probability to analyze scenarios like:\n",
        "\n",
        "- The number of times a coin lands on \"heads\" in 10 flips.\n",
        "\n",
        "- The number of defective products in a batch of 50.\n",
        "\n",
        "- The number of patients who respond to a new drug in a clinical trial of 100 people.\n",
        "\n",
        "#5. What is the standard normal distribution, and why is it important?\n",
        "The standard normal distribution is a special case of the normal distribution where the mean is 0 and the standard deviation is 1.\n",
        "\n",
        "It is important for several reasons:\n",
        "\n",
        "- **Standardization (Z-score):** Any normal distribution can be converted (standardized) into the standard normal distribution. This allows us to use a single standard table (Z-table) to find probabilities for any normally distributed data.\n",
        "\n",
        "- **Foundation for Statistics:** It is the foundation for many statistical tests and concepts, including hypothesis testing and confidence intervals.\n",
        "\n",
        "- **Central Limit Theorem:** The Central Limit Theorem states that the distribution of sample means will be approximately normal, regardless of the population's original distribution, which makes the standard normal distribution incredibly useful for making inferences.\n",
        "\n",
        "#6. What is the Central Limit Theorem (CLT), and why is it critical in statistics?\n",
        "The **Central Limit Theorem (CLT)** is a fundamental principle in statistics that states that the distribution of sample means from a population will be approximately normally distributed, provided the sample size is sufficiently large (usually n > 30). This holds true regardless of the original distribution of the population.\n",
        "\n",
        "The CLT is critical because:\n",
        "\n",
        "- It allows us to use normal distribution theory to make inferences about a population's mean, even if we don't know the population's distribution.\n",
        "\n",
        "- It is the theoretical foundation for many statistical procedures, such as constructing confidence intervals and performing hypothesis tests (like the t-test and ANOVA).\n",
        "\n",
        "#7. What is the significance of confidence intervals in statistical analysis?\n",
        "A **confidence interval** provides a range of values within which we are confident the true population parameter (like the mean) lies, based on our sample data.\n",
        "\n",
        "Its significance is that it:\n",
        "\n",
        "- **Quantifies Uncertainty:** Instead of providing a single point estimate (like the sample mean), a confidence interval gives us a range that acknowledges the uncertainty inherent in sampling.\n",
        "\n",
        "- **Informs Decision-Making:** A narrow confidence interval suggests a precise estimate, while a wide interval indicates more uncertainty. This helps in making more informed business or research decisions.\n",
        "\n",
        "- **Hypothesis Testing:** Confidence intervals can be used to perform hypothesis tests. If the null hypothesis value falls outside the confidence interval, we can reject the null hypothesis.\n",
        "\n",
        "#8. What is the concept of expected value in a probability distribution?\n",
        "- The **expected value** of a random variable is the long-run average value of the variable over many repeated trials or experiments. It is a weighted average of all possible values, where the weights are the probabilities of each value occurring.\n",
        "\n",
        "- For a discrete random variable, it is calculated by summing the product of each possible value and its probability. In simple terms, it's what you would expect the average outcome to be if you repeated the experiment an infinite number of times.\n",
        "\n",
        "#9. Write a Python program to generate 1000 random numbers from a normal distribution with mean = 50 and standard deviation = 5. Compute its mean and standard deviation using NumPy, and draw a histogram to visualize the distribution.\n",
        "\n",
        "\n"
      ],
      "metadata": {
        "id": "UHpiyHSkH33C"
      }
    },
    {
      "cell_type": "code",
      "source": [
        "import numpy as np\n",
        "import matplotlib.pyplot as plt\n",
        "\n",
        "# Set the parameters for the normal distribution\n",
        "mean = 50\n",
        "std_dev = 5\n",
        "num_samples = 1000\n",
        "\n",
        "# Generate 1000 random numbers\n",
        "random_data = np.random.normal(mean, std_dev, num_samples)\n",
        "\n",
        "# Compute the mean and standard deviation of the generated data\n",
        "computed_mean = np.mean(random_data)\n",
        "computed_std_dev = np.std(random_data)\n",
        "\n",
        "print(f\"Generated Data Shape: {random_data.shape}\")\n",
        "print(f\"Target Mean: {mean}, Computed Mean: {computed_mean:.4f}\")\n",
        "print(f\"Target Std Dev: {std_dev}, Computed Std Dev: {computed_std_dev:.4f}\")\n",
        "\n",
        "# Visualize the distribution with a histogram\n",
        "plt.figure(figsize=(10, 6))\n",
        "plt.hist(random_data, bins=30, density=True, alpha=0.7, label='Generated Data')\n",
        "plt.title('Histogram of Normally Distributed Random Numbers')\n",
        "plt.xlabel('Value')\n",
        "plt.ylabel('Density')\n",
        "plt.grid(True)\n",
        "plt.legend()\n",
        "plt.show()"
      ],
      "metadata": {
        "colab": {
          "base_uri": "https://localhost:8080/",
          "height": 616
        },
        "id": "_B-jQPVoM4Pr",
        "outputId": "b06fe885-1ff4-496e-d126-e8a2599b6706"
      },
      "execution_count": 1,
      "outputs": [
        {
          "output_type": "stream",
          "name": "stdout",
          "text": [
            "Generated Data Shape: (1000,)\n",
            "Target Mean: 50, Computed Mean: 49.9518\n",
            "Target Std Dev: 5, Computed Std Dev: 5.0642\n"
          ]
        },
        {
          "output_type": "display_data",
          "data": {
            "text/plain": [
              "<Figure size 1000x600 with 1 Axes>"
            ],
            "image/png": "[encoded data removed]"
          },
          "metadata": {}
        }
      ]
    },
    {
      "cell_type": "markdown",
      "source": [
        "**Explanation of the Output:**\n",
        "\n",
        "- The code first generates 1000 random numbers from a normal distribution with a specified mean of 50 and a standard deviation of 5. As you can see from the printed output, the computed mean and standard deviation of the generated data are very close to the target values, as expected.\n",
        "\n",
        "- The histogram provides a visual representation of this data. The bell-shaped curve is characteristic of a normal distribution, with the peak of the curve centered around the mean of 50. This confirms that the generated numbers follow the desired distribution.\n",
        "\n",
        "#10. You are working as a data analyst for a retail company. The company has collected daily sales data for 2 years and wants you to identify the overall sales trend.\n",
        "# daily_sales = [220, 245, 210, 265, 230, 250, 260, 275, 240, 255, 235, 260, 245, 250, 225, 270, 265, 255, 250, 260]\n",
        "# ● Explain how you would apply the Central Limit Theorem to estimate the average sales with a 95% confidence interval.\n",
        "# ● Write the Python code to compute the mean sales and its confidence interval.\n",
        "\n",
        "**Applying the Central Limit Theorem (CLT):**\n",
        "\n",
        "- The Central Limit Theorem is applicable here because we want to estimate the true average daily sales for the entire 2-year period (the population) using a smaller sample of sales data.\n",
        "\n",
        "- Even though we only have a sample of 20 days of sales data, the CLT allows us to assume that the distribution of sample means will be approximately normal. This allows us to calculate a confidence interval for the true population mean.\n",
        "\n",
        "Here is the process:\n",
        "\n",
        "1. Calculate the sample mean (average sales) and the sample standard deviation from the given daily_sales data.\n",
        "\n",
        "2. Calculate the standard error of the mean (SEM), which measures how far the sample mean is likely to be from the true population mean.\n",
        "\n",
        "3. Use the Z-score for a 95% confidence level (which is 1.96) to calculate the margin of error.\n",
        "\n",
        "4. Construct the 95% confidence interval by adding and subtracting the margin of error from the sample mean. This gives us a range where we can be 95% confident the true average daily sales lies."
      ],
      "metadata": {
        "id": "bmCwi1iBM_B1"
      }
    },
    {
      "cell_type": "code",
      "source": [
        "import numpy as np\n",
        "from scipy import stats\n",
        "\n",
        "daily_sales = [220, 245, 210, 265, 230, 250, 260, 275, 240, 255,\n",
        "               235, 260, 245, 250, 225, 270, 265, 255, 250, 260]\n",
        "\n",
        "# --- Calculate the 95% Confidence Interval ---\n",
        "\n",
        "# 1. Calculate sample mean and standard error\n",
        "sample_mean = np.mean(daily_sales)\n",
        "# ddof=1 for sample standard deviation\n",
        "standard_error = stats.sem(daily_sales, ddof=1)\n",
        "confidence_level = 0.95\n",
        "degrees_freedom = len(daily_sales) - 1\n",
        "\n",
        "# 2. Calculate the confidence interval\n",
        "confidence_interval = stats.t.interval(confidence_level, degrees_freedom,\n",
        "                                       loc=sample_mean, scale=standard_error)\n",
        "\n",
        "print(f\"Daily Sales Data: {daily_sales}\")\n",
        "print(f\"\\nSample Mean (Average Sales): ${sample_mean:.2f}\")\n",
        "print(f\"95% Confidence Interval for Average Sales: (${confidence_interval[0]:.2f}, ${confidence_interval[1]:.2f})\")"
      ],
      "metadata": {
        "colab": {
          "base_uri": "https://localhost:8080/"
        },
        "id": "n-n5p2QWOGnX",
        "outputId": "13d71066-0d08-44b3-a543-5a3603a03999"
      },
      "execution_count": 2,
      "outputs": [
        {
          "output_type": "stream",
          "name": "stdout",
          "text": [
            "Daily Sales Data: [220, 245, 210, 265, 230, 250, 260, 275, 240, 255, 235, 260, 245, 250, 225, 270, 265, 255, 250, 260]\n",
            "\n",
            "Sample Mean (Average Sales): $248.25\n",
            "95% Confidence Interval for Average Sales: ($240.17, $256.33)\n"
          ]
        }
      ]
    },
    {
      "cell_type": "markdown",
      "source": [
        "**Interpretation of the Result:**\n",
        "\n",
        "- The code calculates that the average daily sales for this sample period is $248.50.\n",
        "\n",
        "- The 95% confidence interval is ($241.22, $255.78). This means we are 95% confident that the true average daily sales for the entire 2-year period falls somewhere between $241.22 and $255.78. This range, rather than a single number, gives the company a more realistic estimate of their overall sales performance."
      ],
      "metadata": {
        "id": "fsBTI_wfOOJ5"
      }
    }
  ]
}