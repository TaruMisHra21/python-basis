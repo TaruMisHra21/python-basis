{
  "nbformat": 4,
  "nbformat_minor": 0,
  "metadata": {
    "colab": {
      "provenance": []
    },
    "kernelspec": {
      "name": "python3",
      "display_name": "Python 3"
    },
    "language_info": {
      "name": "python"
    }
  },
  "cells": [
    {
      "cell_type": "markdown",
      "source": [
        "# **FILES, EXCEPTIONAL HANDLING, LOGGING AND MEMORY MANAGEMENT THEORY QUESTIONS**"
      ],
      "metadata": {
        "id": "KrXVIX7WD40e"
      }
    },
    {
      "cell_type": "markdown",
      "source": [
        "# 1. What is the difference between interpreted and compiled languages?\n",
        "- Compiled languages are translated directly into machine code that the processor can execute. This process is done before runtime, resulting in faster execution. Examples include C++ and Java.\n",
        "\n",
        "- Interpreted languages are read and executed line by line by an interpreter program. This makes them more portable and easier to debug, but generally slower. Python is an interpreted language.\n",
        "\n",
        "# 2. What is exception handling in Python?\n",
        "- Exception handling is a mechanism for responding to runtime errors (exceptions). It allows a program to handle errors gracefully without crashing, using try, except, else, and finally blocks.\n",
        "\n",
        "# 3. What is the purpose of the finally block in exception handling?\n",
        "- The finally block contains code that will be executed no matter what, whether an exception occurred or not. It is typically used for cleanup actions, like closing files or database connections.\n",
        "\n",
        "# 4. What is logging in Python?\n",
        "- Logging is a means of tracking events that happen when some software runs. It's used for diagnostics, debugging, and auditing. The logging module in Python provides a flexible framework for emitting log messages.\n",
        "\n",
        "# 5. What is the significance of the __del__ method in Python?\n",
        "- The __del__ method, also known as a destructor, is called when an object is about to be destroyed by the garbage collector. It is used for any necessary cleanup before the object is removed from memory.\n",
        "\n",
        "# 6. What is the difference between import and from ... import in Python?\n",
        "- **Import Module**:- Imports the entire module. You must then use the module name to access its functions (e.g., math.sqrt(4)).\n",
        "\n",
        "- **From module import function**:- Imports a specific function from a module into the current namespace. You can then call the function directly (e.g., sqrt(4)).\n",
        "\n",
        "# 7. How can you handle multiple exceptions in Python?\n",
        "- You can handle multiple exceptions by listing them in a tuple in a single except block (e.g., except (ValueError, TypeError):) or by using multiple except blocks for different exceptions.\n",
        "\n",
        "# 8. What is the purpose of the with statement when handling files in Python?\n",
        "- The with statement simplifies exception handling by encapsulating common try...finally cleanup tasks. When used with files, it ensures that the file is automatically closed when the block is exited, even if errors occur.\n",
        "\n",
        "# 9. What is the difference between multithreading and multiprocessing?\n",
        "- **Multithreading**: Multiple threads run within the same process, sharing the same memory space. It's useful for I/O-bound tasks.\n",
        "\n",
        "- **Multiprocessing**: Multiple processes run in parallel, each with its own memory space. It's used for CPU-bound tasks to take advantage of multiple CPU cores.\n",
        "\n",
        "# 10. What are the advantages of using logging in a program?\n",
        "- Advantages include better diagnostics, easier debugging, the ability to record application behavior over time, and configurable levels of detail without changing the code.\n",
        "\n",
        "# 11. What is memory management in Python?\n",
        "- **Memory management** in Python involves a private heap containing all Python objects and data structures. The management of this private heap is ensured by the Python memory manager.\n",
        "\n",
        "# 12. What are the basic steps involved in exception handling in Python?\n",
        "The basic steps are:\n",
        "\n",
        "- **Try**: The code that might raise an exception is placed in the try block.\n",
        "\n",
        "- **Except**: If an exception occurs, the code in the corresponding except block is executed.\n",
        "\n",
        "- **Else (optional)**: If no exception occurs, the else block is executed.\n",
        "\n",
        "- **Finally (optional)**: This block is always executed.\n",
        "\n",
        "# 13. Why is memory management important in Python?\n",
        "- It's important for efficient use of system resources, preventing memory leaks, and ensuring the stability and performance of applications, especially long-running ones.\n",
        "\n",
        "# 14. What is the role of try and except in exception handling?\n",
        "- **Try**: Encloses the code that might cause an error.\n",
        "\n",
        "- **Except**: Catches and handles the exception if one occurs in the try block.\n",
        "\n",
        "# 15.  How does Python's garbage collection system work?\n",
        "- Python's garbage collector automatically reclaims memory from objects that are no longer in use. It primarily uses a system of reference counting and a cyclic garbage collector to detect and clean up objects that refer to each other.\n",
        "\n",
        "# 16. What is the purpose of the else block in exception handling?\n",
        "- The else block is executed only if the try block completes without raising an exception. It's useful for code that should run only when the main action succeeds.\n",
        "\n",
        "# 17. What are the common logging levels in Python?\n",
        "- The common logging levels, in increasing order of severity, are DEBUG, INFO, WARNING, ERROR, and CRITICAL.\n",
        "\n",
        "# 18. What is the difference between os.fork() and multiprocessing in Python?\n",
        "os.fork() and multiprocessing in Python?\n",
        "\n",
        "- **Os.fork()**: A low-level system call that creates a new process (a child) which is an exact copy of the parent. It's only available on Unix-like systems.\n",
        "\n",
        "- **Multiprocessing**: A high-level module that provides a portable way to create and manage processes, offering more features and a simpler API.\n",
        "\n",
        "# 19. What is the importance of closing a file in Python?\n",
        "- Closing a file is important to release the file handle back to the operating system, flush any buffered writes to the disk, and prevent resource leaks.\n",
        "\n",
        "# 20. What is the difference between file.read() and file.readline() in Python?\n",
        "file.read() and file.readline() in Python?\n",
        "\n",
        "- **File.read()**: Reads the entire content of the file into a single string.\n",
        "\n",
        "- **File.readline()**: Reads a single line from the file, including the newline character.\n",
        "\n",
        "# 21. What is the logging module in Python used for?\n",
        "- The logging module is used to implement a flexible event logging system for applications and libraries.\n",
        "\n",
        "# 22. What is the os module in Python used for in file handling?\n",
        "- The os module provides a way of using operating system-dependent functionality, including file system operations like creating directories, checking for file existence, and getting file paths.\n",
        "\n",
        "# 23. What are the challenges associated with memory management in Python?\n",
        "- Challenges include potential memory fragmentation, performance overhead from garbage collection, and difficulty in managing memory for very large datasets or in C extensions.\n",
        "\n",
        "# 24.  How do you raise an exception manually in Python?\n",
        "- You can raise an exception manually using the raise keyword, followed by an exception class (e.g., raise ValueError(\"Invalid value\")).\n",
        "\n",
        "# 25. Why is it important to use multithreading in certain applications?\n",
        "- It's important for applications that need to remain responsive while performing long-running tasks, especially those that are I/O-bound (like network requests or file operations), as it can improve performance and user experience."
      ],
      "metadata": {
        "id": "U_7t3TxLEh4X"
      }
    },
    {
      "cell_type": "markdown",
      "source": [
        "# **FILES, EXCEPTIONAL HANDLING, LOGGING AND MEMORY MANAGEMNT PRACTICAL QUESTIONS**"
      ],
      "metadata": {
        "id": "od64fitSKkhg"
      }
    },
    {
      "cell_type": "markdown",
      "source": [
        "# 1. How can you open a file for writing in Python and write a string to it?"
      ],
      "metadata": {
        "id": "lUuL7pV5Lzoo"
      }
    },
    {
      "cell_type": "code",
      "source": [
        "with open(\"my_file.txt\", \"w\") as f:\n",
        "    f.write(\"Hello, this is a test.\")"
      ],
      "metadata": {
        "id": "vRhXk-DPL9Pu"
      },
      "execution_count": 4,
      "outputs": []
    },
    {
      "cell_type": "markdown",
      "source": [
        "# 2.  Write a Python program to read the contents of a file and print each line."
      ],
      "metadata": {
        "id": "DEqkf3FUMKri"
      }
    },
    {
      "cell_type": "code",
      "source": [
        "with open(\"my_file.txt\", \"r\") as f:\n",
        "    for line in f:\n",
        "        print(line, end=\"\")"
      ],
      "metadata": {
        "colab": {
          "base_uri": "https://localhost:8080/"
        },
        "id": "29ePLoGSMRc1",
        "outputId": "7bacc4ed-a605-4cc4-be4d-6fd381ed0f5b"
      },
      "execution_count": 5,
      "outputs": [
        {
          "output_type": "stream",
          "name": "stdout",
          "text": [
            "Hello, this is a test."
          ]
        }
      ]
    },
    {
      "cell_type": "markdown",
      "source": [
        "# 3. How would you handle a case where the file doesn't exist while trying to open it for reading?"
      ],
      "metadata": {
        "id": "q9kSdvp5MZMQ"
      }
    },
    {
      "cell_type": "code",
      "source": [
        "try:\n",
        "    with open(\"non_existent_file.txt\", \"r\") as f:\n",
        "        content = f.read()\n",
        "except FileNotFoundError:\n",
        "    print(\"Error: The file was not found.\")"
      ],
      "metadata": {
        "colab": {
          "base_uri": "https://localhost:8080/"
        },
        "id": "JL469EhqMeKh",
        "outputId": "e89b9ccf-fc99-4752-9f19-ce5c2bdd8db6"
      },
      "execution_count": 6,
      "outputs": [
        {
          "output_type": "stream",
          "name": "stdout",
          "text": [
            "Error: The file was not found.\n"
          ]
        }
      ]
    },
    {
      "cell_type": "markdown",
      "source": [
        "# 4. Write a Python script that reads from one file and writes its content to another file."
      ],
      "metadata": {
        "id": "LrJOgS1GMhbR"
      }
    },
    {
      "cell_type": "code",
      "source": [
        "with open(\"source.txt\", \"w\") as f:\n",
        "    f.write(\"This is the source file.\")\n",
        "\n",
        "with open(\"source.txt\", \"r\") as src, open(\"destination.txt\", \"w\") as dest:\n",
        "    dest.write(src.read())"
      ],
      "metadata": {
        "id": "AfFJgw6RMlzr"
      },
      "execution_count": 7,
      "outputs": []
    },
    {
      "cell_type": "markdown",
      "source": [
        "# 5.  How would you catch and handle division by zero error in Python?"
      ],
      "metadata": {
        "id": "0w3JNFLSMo64"
      }
    },
    {
      "cell_type": "code",
      "source": [
        "try:\n",
        "    result = 10 / 0\n",
        "except ZeroDivisionError:\n",
        "    print(\"Error: Cannot divide by zero.\")"
      ],
      "metadata": {
        "colab": {
          "base_uri": "https://localhost:8080/"
        },
        "id": "B1wTMTl_MvsY",
        "outputId": "c178d1d2-a7fa-462d-c529-b71e84653800"
      },
      "execution_count": 8,
      "outputs": [
        {
          "output_type": "stream",
          "name": "stdout",
          "text": [
            "Error: Cannot divide by zero.\n"
          ]
        }
      ]
    },
    {
      "cell_type": "markdown",
      "source": [
        "# 6. Write a Python program that logs an error message to a log file when a division by zero exception occurs."
      ],
      "metadata": {
        "id": "j55ccN__Mz7G"
      }
    },
    {
      "cell_type": "code",
      "source": [
        "import logging\n",
        "logging.basicConfig(filename='error.log', level=logging.ERROR)\n",
        "\n",
        "try:\n",
        "    result = 10 / 0\n",
        "except ZeroDivisionError as e:\n",
        "    logging.error(f\"An error occurred: {e}\")"
      ],
      "metadata": {
        "colab": {
          "base_uri": "https://localhost:8080/"
        },
        "id": "CW4sz_uTM7PB",
        "outputId": "836d06f8-3087-42b6-b0e9-f167eb626906"
      },
      "execution_count": 9,
      "outputs": [
        {
          "output_type": "stream",
          "name": "stderr",
          "text": [
            "ERROR:root:An error occurred: division by zero\n"
          ]
        }
      ]
    },
    {
      "cell_type": "markdown",
      "source": [
        "# 7.  How do you log information at different levels (INFO, ERROR, WARNING) in Python using the logging module?"
      ],
      "metadata": {
        "id": "sgxKZvg-M-AI"
      }
    },
    {
      "cell_type": "code",
      "source": [
        "import logging\n",
        "logging.basicConfig(level=logging.INFO)\n",
        "\n",
        "logging.info(\"This is an info message.\")\n",
        "logging.warning(\"This is a warning message.\")\n",
        "logging.error(\"This is an error message.\")"
      ],
      "metadata": {
        "colab": {
          "base_uri": "https://localhost:8080/"
        },
        "id": "rVcAqFK0NGng",
        "outputId": "7058fd50-5b76-4adc-f553-1efe1232157c"
      },
      "execution_count": 10,
      "outputs": [
        {
          "output_type": "stream",
          "name": "stderr",
          "text": [
            "WARNING:root:This is a warning message.\n",
            "ERROR:root:This is an error message.\n"
          ]
        }
      ]
    },
    {
      "cell_type": "markdown",
      "source": [
        "# 8. Write a program to handle a file opening error using exception handling."
      ],
      "metadata": {
        "id": "L26qgNMRNLE4"
      }
    },
    {
      "cell_type": "code",
      "source": [
        "try:\n",
        "    with open(\"another_non_existent_file.txt\", \"r\") as f:\n",
        "        content = f.read()\n",
        "except IOError as e:\n",
        "    print(f\"An I/O error occurred: {e}\")"
      ],
      "metadata": {
        "colab": {
          "base_uri": "https://localhost:8080/"
        },
        "id": "AY7GCpX1NSNK",
        "outputId": "4e63cd5b-ecac-4cff-a00a-f4fe80b7c238"
      },
      "execution_count": 11,
      "outputs": [
        {
          "output_type": "stream",
          "name": "stdout",
          "text": [
            "An I/O error occurred: [Errno 2] No such file or directory: 'another_non_existent_file.txt'\n"
          ]
        }
      ]
    },
    {
      "cell_type": "markdown",
      "source": [
        "# 9. How can you read a file line by line and store its content in a list in Python?"
      ],
      "metadata": {
        "id": "qWu1jp3wNU_B"
      }
    },
    {
      "cell_type": "code",
      "source": [
        "with open(\"my_file.txt\", \"r\") as f:\n",
        "    lines = f.readlines()\n",
        "print(lines)"
      ],
      "metadata": {
        "colab": {
          "base_uri": "https://localhost:8080/"
        },
        "id": "9wsqBbwZNYuR",
        "outputId": "5152bc15-f7c6-4013-cad7-7b9a53b1522b"
      },
      "execution_count": 12,
      "outputs": [
        {
          "output_type": "stream",
          "name": "stdout",
          "text": [
            "['Hello, this is a test.']\n"
          ]
        }
      ]
    },
    {
      "cell_type": "markdown",
      "source": [
        "# 10.  How can you append data to an existing file in Python?"
      ],
      "metadata": {
        "id": "HdRgq0j5NbYA"
      }
    },
    {
      "cell_type": "code",
      "source": [
        "with open(\"my_file.txt\", \"a\") as f:\n",
        "    f.write(\"\\nAppending a new line.\")"
      ],
      "metadata": {
        "id": "Eu4Z7UhZNfov"
      },
      "execution_count": 13,
      "outputs": []
    },
    {
      "cell_type": "markdown",
      "source": [
        "# 11. Write a Python program that uses a try-except block to handle an error when attempting to access a dictionary key that doesn't exist."
      ],
      "metadata": {
        "id": "8JiGWolbNiQz"
      }
    },
    {
      "cell_type": "code",
      "source": [
        "my_dict = {\"name\": \"Alice\"}\n",
        "try:\n",
        "    print(my_dict[\"age\"])\n",
        "except KeyError:\n",
        "    print(\"Error: That key does not exist.\")"
      ],
      "metadata": {
        "colab": {
          "base_uri": "https://localhost:8080/"
        },
        "id": "eVwfausBNoH-",
        "outputId": "70ce9207-e536-49ea-e6d7-15d15c2bed9d"
      },
      "execution_count": 14,
      "outputs": [
        {
          "output_type": "stream",
          "name": "stdout",
          "text": [
            "Error: That key does not exist.\n"
          ]
        }
      ]
    },
    {
      "cell_type": "markdown",
      "source": [
        "# 12. Write a program that demonstrates using multiple except blocks to handle different types of exceptions."
      ],
      "metadata": {
        "id": "qOKSl16BOAIK"
      }
    },
    {
      "cell_type": "code",
      "source": [
        "try:\n",
        "    # Change the value to test different exceptions\n",
        "    x = int(\"a\")\n",
        "    # x = 10 / 0\n",
        "except ValueError:\n",
        "    print(\"Caught a ValueError.\")\n",
        "except ZeroDivisionError:\n",
        "    print(\"Caught a ZeroDivisionError.\")"
      ],
      "metadata": {
        "colab": {
          "base_uri": "https://localhost:8080/"
        },
        "id": "VBvAJIvHOSpo",
        "outputId": "2ee971b5-ba9c-43ee-fb26-3e9d5886d54d"
      },
      "execution_count": 15,
      "outputs": [
        {
          "output_type": "stream",
          "name": "stdout",
          "text": [
            "Caught a ValueError.\n"
          ]
        }
      ]
    },
    {
      "cell_type": "markdown",
      "source": [
        "# 13. How would you check if a file exists before attempting to read it in Python?"
      ],
      "metadata": {
        "id": "I8pxfuRTOXnz"
      }
    },
    {
      "cell_type": "code",
      "source": [
        "import os\n",
        "if os.path.exists(\"my_file.txt\"):\n",
        "    with open(\"my_file.txt\", \"r\") as f:\n",
        "        print(f.read())\n",
        "else:\n",
        "    print(\"File does not exist.\")"
      ],
      "metadata": {
        "colab": {
          "base_uri": "https://localhost:8080/"
        },
        "id": "k1LUniMbOeJh",
        "outputId": "e0a95302-dddf-4136-ce3f-047411e5a15e"
      },
      "execution_count": 16,
      "outputs": [
        {
          "output_type": "stream",
          "name": "stdout",
          "text": [
            "Hello, this is a test.\n",
            "Appending a new line.\n"
          ]
        }
      ]
    },
    {
      "cell_type": "markdown",
      "source": [
        "# 14.  Write a program that uses the logging module to log both informational and error messages."
      ],
      "metadata": {
        "id": "ImvkrFEvOhTd"
      }
    },
    {
      "cell_type": "code",
      "source": [
        "import logging\n",
        "logging.basicConfig(filename='app.log', level=logging.INFO,\n",
        "                    format='%(asctime)s - %(levelname)s - %(message)s')\n",
        "\n",
        "logging.info(\"Program started.\")\n",
        "try:\n",
        "    10 / 0\n",
        "except ZeroDivisionError:\n",
        "    logging.error(\"Division by zero occurred.\")"
      ],
      "metadata": {
        "colab": {
          "base_uri": "https://localhost:8080/"
        },
        "id": "RYheOlQZOoYM",
        "outputId": "dd349533-3e4b-458d-f059-c8ee93c2f545"
      },
      "execution_count": 17,
      "outputs": [
        {
          "output_type": "stream",
          "name": "stderr",
          "text": [
            "ERROR:root:Division by zero occurred.\n"
          ]
        }
      ]
    },
    {
      "cell_type": "markdown",
      "source": [
        "# 15. Write a Python program that prints the content of a file and handles the case when the file is empty."
      ],
      "metadata": {
        "id": "76d0Eu67OrDC"
      }
    },
    {
      "cell_type": "code",
      "source": [
        "import os\n",
        "\n",
        "# Create an empty file for the example\n",
        "open(\"empty_file.txt\", \"w\").close()\n",
        "\n",
        "if os.path.getsize(\"empty_file.txt\") == 0:\n",
        "    print(\"The file is empty.\")\n",
        "else:\n",
        "    with open(\"empty_file.txt\", \"r\") as f:\n",
        "        print(f.read())"
      ],
      "metadata": {
        "colab": {
          "base_uri": "https://localhost:8080/"
        },
        "id": "zWpcRJXQOvHx",
        "outputId": "5061fe6c-b01e-4558-987e-f57b7a314780"
      },
      "execution_count": 18,
      "outputs": [
        {
          "output_type": "stream",
          "name": "stdout",
          "text": [
            "The file is empty.\n"
          ]
        }
      ]
    },
    {
      "cell_type": "markdown",
      "source": [
        "# 16. Demonstrate how to use memory profiling to check the memory usage of a small program."
      ],
      "metadata": {
        "id": "MyTCHZoDO0Dg"
      }
    },
    {
      "cell_type": "code",
      "source": [
        "!pip install memory_profiler"
      ],
      "metadata": {
        "colab": {
          "base_uri": "https://localhost:8080/"
        },
        "id": "_-JGg5GUPZV_",
        "outputId": "5f074d4b-6c86-4c70-c277-34f1f4a03ea8"
      },
      "execution_count": 20,
      "outputs": [
        {
          "output_type": "stream",
          "name": "stdout",
          "text": [
            "Collecting memory_profiler\n",
            "  Downloading memory_profiler-0.61.0-py3-none-any.whl.metadata (20 kB)\n",
            "Requirement already satisfied: psutil in /usr/local/lib/python3.12/dist-packages (from memory_profiler) (5.9.5)\n",
            "Downloading memory_profiler-0.61.0-py3-none-any.whl (31 kB)\n",
            "Installing collected packages: memory_profiler\n",
            "Successfully installed memory_profiler-0.61.0\n"
          ]
        }
      ]
    },
    {
      "cell_type": "code",
      "source": [
        "# Save this code as a file, e.g., 'mem_profile_script.py'\n",
        "# Then run from the terminal: python -m memory_profiler mem_profile_script.py\n",
        "\n",
        "from memory_profiler import profile\n",
        "\n",
        "@profile\n",
        "def my_function():\n",
        "    a = [1] * (10 ** 6)\n",
        "    b = [2] * (2 * 10 ** 7)\n",
        "    del b\n",
        "    return a\n",
        "\n",
        "if __name__ == '__main__':\n",
        "    my_function()"
      ],
      "metadata": {
        "colab": {
          "base_uri": "https://localhost:8080/"
        },
        "id": "7ou4bMygPd0n",
        "outputId": "320bf39f-eb03-41b7-e675-cc16d71929ce"
      },
      "execution_count": 22,
      "outputs": [
        {
          "output_type": "stream",
          "name": "stdout",
          "text": [
            "ERROR: Could not find file /tmp/ipython-input-2747267069.py\n"
          ]
        }
      ]
    },
    {
      "cell_type": "markdown",
      "source": [
        "# 17. Write a Python program to create and write a list of numbers to a file, one number per line."
      ],
      "metadata": {
        "id": "r20tuMWiQFDq"
      }
    },
    {
      "cell_type": "code",
      "source": [
        "numbers = [10, 20, 30, 40, 50]\n",
        "with open(\"numbers.txt\", \"w\") as f:\n",
        "    for num in numbers:\n",
        "        f.write(f\"{num}\\n\")"
      ],
      "metadata": {
        "id": "7m-a1hPNQfji"
      },
      "execution_count": 23,
      "outputs": []
    },
    {
      "cell_type": "markdown",
      "source": [
        "# 18. How would you implement a basic logging setup that logs to a file with rotation after 1MB?"
      ],
      "metadata": {
        "id": "Mu6GFImsQsx1"
      }
    },
    {
      "cell_type": "code",
      "source": [
        "import logging\n",
        "from logging.handlers import RotatingFileHandler\n",
        "\n",
        "# Set up a rotating log handler\n",
        "handler = RotatingFileHandler('rotating_log.log', maxBytes=1000000, backupCount=5)\n",
        "logging.basicConfig(level=logging.INFO, handlers=[handler])\n",
        "\n",
        "for i in range(10000):\n",
        "    logging.info(f\"This is log message number {i}\")"
      ],
      "metadata": {
        "id": "iaaukYLtQ0EU"
      },
      "execution_count": 25,
      "outputs": []
    },
    {
      "cell_type": "markdown",
      "source": [
        "# 19.  Write a program that handles both IndexError and KeyError using a try-except block."
      ],
      "metadata": {
        "id": "2juGDd1DQ7dO"
      }
    },
    {
      "cell_type": "code",
      "source": [
        "my_list = [1, 2, 3]\n",
        "my_dict = {'a': 1}\n",
        "try:\n",
        "    # print(my_list[5]) # This will cause an IndexError\n",
        "    print(my_dict['b']) # This will cause a KeyError\n",
        "except (IndexError, KeyError) as e:\n",
        "    print(f\"An error occurred: {e}\")"
      ],
      "metadata": {
        "colab": {
          "base_uri": "https://localhost:8080/"
        },
        "id": "qmcmTlOYRPLL",
        "outputId": "5cf90ce0-52e7-4cdb-a5fa-79518a28bf7b"
      },
      "execution_count": 26,
      "outputs": [
        {
          "output_type": "stream",
          "name": "stdout",
          "text": [
            "An error occurred: 'b'\n"
          ]
        }
      ]
    },
    {
      "cell_type": "markdown",
      "source": [
        "# 20.  How would you open a file and read its contents using a context manager in Python?"
      ],
      "metadata": {
        "id": "VO6IEJVRRSnw"
      }
    },
    {
      "cell_type": "code",
      "source": [
        "with open(\"my_file.txt\", \"r\") as f:\n",
        "    content = f.read()\n",
        "    print(content)\n",
        "# The file is automatically closed here"
      ],
      "metadata": {
        "colab": {
          "base_uri": "https://localhost:8080/"
        },
        "id": "z5Ov4-gvRYeV",
        "outputId": "770af299-214d-4c2c-8349-2a1d4bb2867d"
      },
      "execution_count": 27,
      "outputs": [
        {
          "output_type": "stream",
          "name": "stdout",
          "text": [
            "Hello, this is a test.\n",
            "Appending a new line.\n"
          ]
        }
      ]
    },
    {
      "cell_type": "markdown",
      "source": [
        "# 21. Write a Python program that reads a file and prints the number of occurrences of a specific word."
      ],
      "metadata": {
        "id": "X_mKqbJjRbp-"
      }
    },
    {
      "cell_type": "code",
      "source": [
        "with open(\"word_count_test.txt\", \"w\") as f:\n",
        "    f.write(\"hello world hello python world\")\n",
        "\n",
        "word_to_find = \"hello\"\n",
        "count = 0\n",
        "with open(\"word_count_test.txt\", \"r\") as f:\n",
        "    for line in f:\n",
        "        words = line.split()\n",
        "        count += words.count(word_to_find)\n",
        "print(f\"The word '{word_to_find}' appears {count} times.\")"
      ],
      "metadata": {
        "colab": {
          "base_uri": "https://localhost:8080/"
        },
        "id": "bwIgl5Y-RgqA",
        "outputId": "335d959a-cabe-4960-d39c-ced114e7ba3a"
      },
      "execution_count": 28,
      "outputs": [
        {
          "output_type": "stream",
          "name": "stdout",
          "text": [
            "The word 'hello' appears 2 times.\n"
          ]
        }
      ]
    },
    {
      "cell_type": "markdown",
      "source": [
        "# 22.  How can you check if a file is empty before attempting to read its contents?"
      ],
      "metadata": {
        "id": "qJYeGdBdRl8l"
      }
    },
    {
      "cell_type": "code",
      "source": [
        "import os\n",
        "if os.path.getsize(\"my_file.txt\") > 0:\n",
        "    print(\"File is not empty.\")\n",
        "else:\n",
        "    print(\"File is empty.\")"
      ],
      "metadata": {
        "colab": {
          "base_uri": "https://localhost:8080/"
        },
        "id": "N2lwwm50RtlP",
        "outputId": "45a93bdb-d66a-4a11-9e8a-4486f5039858"
      },
      "execution_count": 29,
      "outputs": [
        {
          "output_type": "stream",
          "name": "stdout",
          "text": [
            "File is not empty.\n"
          ]
        }
      ]
    },
    {
      "cell_type": "markdown",
      "source": [
        "# 23. Write a Python program that writes to a log file when an error occurs during file handling."
      ],
      "metadata": {
        "id": "RTZhn0CERwvk"
      }
    },
    {
      "cell_type": "code",
      "source": [
        "import logging\n",
        "logging.basicConfig(filename='file_handling_errors.log', level=logging.ERROR)\n",
        "\n",
        "try:\n",
        "    with open(\"non_existent_file_for_logging.txt\", \"r\") as f:\n",
        "        f.read()\n",
        "except FileNotFoundError as e:\n",
        "    logging.error(f\"File handling error: {e}\")"
      ],
      "metadata": {
        "colab": {
          "base_uri": "https://localhost:8080/"
        },
        "id": "M7FlnCjAR1Ch",
        "outputId": "ec07e895-e53e-42c6-8970-58c34e9e4532"
      },
      "execution_count": 30,
      "outputs": [
        {
          "output_type": "stream",
          "name": "stderr",
          "text": [
            "ERROR:root:File handling error: [Errno 2] No such file or directory: 'non_existent_file_for_logging.txt'\n"
          ]
        }
      ]
    }
  ]
}