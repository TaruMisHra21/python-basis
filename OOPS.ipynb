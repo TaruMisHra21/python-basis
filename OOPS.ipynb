{
  "nbformat": 4,
  "nbformat_minor": 0,
  "metadata": {
    "colab": {
      "provenance": []
    },
    "kernelspec": {
      "name": "python3",
      "display_name": "Python 3"
    },
    "language_info": {
      "name": "python"
    }
  },
  "cells": [
    {
      "cell_type": "markdown",
      "source": [
        "1. What is Object-Oriented Programming (OOP)?\n",
        "- OOP is a programming paradigm (style of coding) that organizes software design around objects instead of functions and logic.\n",
        "\n",
        "An object is a real-world entity that has attributes (data) and behaviors (methods).\n",
        "\n",
        "A class is a blueprint for creating objects.\n",
        "\n",
        "Key Features of OOP\n",
        "\n",
        "1. Encapsulation → Bundling data (attributes) and methods (functions) inside a class, and controlling access to them.\n",
        "\n",
        "2. Abstraction → Hiding implementation details and showing only the essential features.\n",
        "\n",
        "3. Inheritance → A class can inherit attributes and methods from another class (code reusability).\n",
        "\n",
        "4. Polymorphism → The same method name can behave differently depending on the object (e.g., fly() for a Sparrow vs. Penguin)."
      ],
      "metadata": {
        "id": "Q-GzHWvuDCM2"
      }
    },
    {
      "cell_type": "code",
      "source": [
        "class Car:\n",
        "    def __init__(self, brand, color):\n",
        "        self.brand = brand\n",
        "        self.color = color\n",
        "\n",
        "    def drive(self):\n",
        "        print(f\"{self.color} {self.brand} is driving 🚗\")\n",
        "\n",
        "# Create objects\n",
        "car1 = Car(\"Toyota\", \"Red\")\n",
        "car2 = Car(\"Tesla\", \"Black\")\n",
        "\n",
        "car1.drive()\n",
        "car2.drive()\n"
      ],
      "metadata": {
        "colab": {
          "base_uri": "https://localhost:8080/"
        },
        "id": "uioFtFgEF9d-",
        "outputId": "01cd7caf-446b-49c7-a6e8-87a24183f00b"
      },
      "execution_count": null,
      "outputs": [
        {
          "output_type": "stream",
          "name": "stdout",
          "text": [
            "Red Toyota is driving 🚗\n",
            "Black Tesla is driving 🚗\n"
          ]
        }
      ]
    },
    {
      "cell_type": "markdown",
      "source": [
        "2. What is a class in OOP?\n",
        "- A class is a blueprint or template for creating objects.\n",
        "It defines the attributes (data) and methods (functions/behaviors) that the objects created from it will have.\n",
        "\n",
        "Think of a class like a blueprint of a house. The blueprint itself is not a house, but you can build many houses (objects) from it.\n"
      ],
      "metadata": {
        "id": "WS6je-RMGBg3"
      }
    },
    {
      "cell_type": "code",
      "source": [
        "class Car:\n",
        "    # Attributes (data)\n",
        "    def __init__(self, brand, color):\n",
        "        self.brand = brand\n",
        "        self.color = color\n",
        "\n",
        "    # Method (behavior)\n",
        "    def drive(self):\n",
        "        print(f\"{self.color} {self.brand} is driving 🚗\")\n",
        "\n",
        "\n",
        "# Create objects from the class\n",
        "car1 = Car(\"Toyota\", \"Red\")\n",
        "car2 = Car(\"Tesla\", \"Black\")\n",
        "\n",
        "car1.drive()\n",
        "car2.drive()"
      ],
      "metadata": {
        "colab": {
          "base_uri": "https://localhost:8080/"
        },
        "id": "J54S9J3cGhzO",
        "outputId": "d2b337ec-383f-4949-e0f0-67f38722c2f9"
      },
      "execution_count": null,
      "outputs": [
        {
          "output_type": "stream",
          "name": "stdout",
          "text": [
            "Red Toyota is driving 🚗\n",
            "Black Tesla is driving 🚗\n"
          ]
        }
      ]
    },
    {
      "cell_type": "markdown",
      "source": [
        "3. What is an object in OOP?\n",
        "- An object is an instance of a class.\n",
        "It represents a real-world entity with attributes (data) and methods (behaviors) defined by its class.\n",
        "\n",
        "Think of a class as a blueprint, and an object as a house built from that blueprint.\n",
        "\n",
        "Each object can have its own values for the attributes.\n"
      ],
      "metadata": {
        "id": "VjFDmrcNGmcg"
      }
    },
    {
      "cell_type": "code",
      "source": [
        "class Car:\n",
        "    def __init__(self, brand, color):\n",
        "        self.brand = brand\n",
        "        self.color = color\n",
        "\n",
        "    def drive(self):\n",
        "        print(f\"{self.color} {self.brand} is driving 🚗\")\n",
        "\n",
        "# Creating objects\n",
        "car1 = Car(\"Toyota\", \"Red\")\n",
        "car2 = Car(\"Tesla\", \"Black\")\n",
        "\n",
        "car1.drive()\n",
        "car2.drive()"
      ],
      "metadata": {
        "colab": {
          "base_uri": "https://localhost:8080/"
        },
        "id": "j_nt7mjGG0-8",
        "outputId": "b914d0e6-8d1a-42a6-81b3-6bb15fe5ba45"
      },
      "execution_count": null,
      "outputs": [
        {
          "output_type": "stream",
          "name": "stdout",
          "text": [
            "Red Toyota is driving 🚗\n",
            "Black Tesla is driving 🚗\n"
          ]
        }
      ]
    },
    {
      "cell_type": "markdown",
      "source": [
        "4. What is the difference between abstraction and encapsulation?\n",
        "- 1. Abstraction\n",
        "\n",
        "Definition: Hiding the complex implementation details and showing only the essential features to the user.\n",
        "\n",
        "Goal: Focus on what an object does, not how it does it.\n",
        "\n",
        "Achieved using: Abstract classes and interfaces (in Python, abc module).\n",
        "\n",
        "Example:"
      ],
      "metadata": {
        "id": "X4z07BZNG6FH"
      }
    },
    {
      "cell_type": "code",
      "source": [
        "from abc import ABC, abstractmethod\n",
        "\n",
        "class Vehicle(ABC):\n",
        "    @abstractmethod\n",
        "    def start_engine(self):\n",
        "        pass  # User doesn't need to know the engine details\n",
        "\n",
        "class Car(Vehicle):\n",
        "    def start_engine(self):\n",
        "        print(\"Car engine started\")\n"
      ],
      "metadata": {
        "id": "n9DypyYFHGBC"
      },
      "execution_count": null,
      "outputs": []
    },
    {
      "cell_type": "markdown",
      "source": [
        "2. Encapsulation\n",
        "\n",
        "Definition: Wrapping data (attributes) and methods into a single unit (class) and controlling access to it.\n",
        "\n",
        "Goal: Protect data from unauthorized access and modification.\n",
        "\n",
        "Achieved using: Private/protected attributes, getters, and setters.\n",
        "\n",
        "Example:"
      ],
      "metadata": {
        "id": "RK8Tc48oHNxd"
      }
    },
    {
      "cell_type": "code",
      "source": [
        "class BankAccount:\n",
        "    def __init__(self, balance):\n",
        "        self.__balance = balance  # private attribute\n",
        "\n",
        "    def deposit(self, amount):\n",
        "        self.__balance += amount\n",
        "\n",
        "    def get_balance(self):\n",
        "        return self.__balance\n"
      ],
      "metadata": {
        "id": "yoORVn8GHOoJ"
      },
      "execution_count": 3,
      "outputs": []
    },
    {
      "cell_type": "markdown",
      "source": [
        "5. What are dunder methods in Python?\n",
        "- Dunder methods (short for “double underscore methods”) are special methods in Python that start and end with double underscores, like __init__, __str__, __add__.\n",
        "\n",
        "They are also called magic methods or special methods.\n",
        "\n",
        "Python automatically calls these methods in certain situations, allowing us to customize the behavior of objects."
      ],
      "metadata": {
        "id": "kwfdA_zrHReg"
      }
    },
    {
      "cell_type": "code",
      "source": [
        "'''Common Examples\n",
        "\n",
        "1.__init__ → Constructor, called when an object is created'''\n",
        "class Person:\n",
        "    def __init__(self, name):\n",
        "        self.name = name\n",
        "\n",
        "p = Person(\"Taru\")\n",
        "\n",
        "'''2.__str__ → Defines the string representation of an\n",
        " object (used by print())'''\n",
        "\n",
        " class Person:\n",
        "    def __init__(self, name):\n",
        "        self.name = name\n",
        "\n",
        "    def __str__(self):\n",
        "        return f\"Person: {self.name}\"\n",
        "\n",
        "p = Person(\"Taru\")\n",
        "print(p)  # Output: Person: Taru\n",
        "\n",
        "\n",
        "'''3.__add__ → Defines behavior of + operator for objects.'''\n",
        "class Vector:\n",
        "    def __init__(self, x, y):\n",
        "        self.x = x\n",
        "        self.y = y\n",
        "\n",
        "    def __add__(self, other):\n",
        "        return Vector(self.x + other.x, self.y + other.y)\n",
        "\n",
        "    def __str__(self):\n",
        "        return f\"Vector({self.x}, {self.y})\"\n",
        "\n",
        "v1 = Vector(2, 3)\n",
        "v2 = Vector(4, 5)\n",
        "print(v1 + v2)  # Vector(6, 8)\n",
        "\n",
        "'''4. __len__ → Defines behavior of len() for objects.'''\n",
        "\n",
        "class MyList:\n",
        "    def __init__(self, items):\n",
        "        self.items = items\n",
        "\n",
        "    def __len__(self):\n",
        "        return len(self.items)\n",
        "\n",
        "lst = MyList([1, 2, 3])\n",
        "print(len(lst))  # 3\n"
      ],
      "metadata": {
        "id": "sw0h3f7bItb_"
      },
      "execution_count": null,
      "outputs": []
    },
    {
      "cell_type": "markdown",
      "source": [
        "6. Explain the concept of inheritance in OOP?\n",
        "- Inheritance is a mechanism in object-oriented programming where a class (child/derived class) can acquire properties and methods from another class (parent/base class).\n",
        "\n",
        "The child class inherits attributes and behaviors from the parent, so we don’t need to rewrite code.\n",
        "\n",
        "It allows code reusability and establishes a hierarchical relationship between classes.\n",
        "\n",
        "Types of Inheritance\n",
        "\n",
        "1. Single Inheritance → Child inherits from one parent.\n",
        "\n",
        "2. Multi-level Inheritance → A class inherits from a derived class.\n",
        "\n",
        "3. Multiple Inheritance → A class inherits from more than one parent.\n",
        "\n",
        "4. Hierarchical Inheritance → Multiple classes inherit from the same parent.\n"
      ],
      "metadata": {
        "id": "cvrOWsDSJtIh"
      }
    },
    {
      "cell_type": "code",
      "source": [
        "# Parent class\n",
        "class Vehicle:\n",
        "    def __init__(self, brand):\n",
        "        self.brand = brand\n",
        "\n",
        "    def start(self):\n",
        "        print(f\"{self.brand} vehicle is starting\")\n",
        "\n",
        "# Child class\n",
        "class Car(Vehicle):\n",
        "    def drive(self):\n",
        "        print(f\"{self.brand} car is driving\")\n",
        "\n",
        "# Example usage\n",
        "v = Vehicle(\"Generic\")\n",
        "v.start()\n",
        "\n",
        "c = Car(\"Toyota\")\n",
        "c.start()\n",
        "c.drive()"
      ],
      "metadata": {
        "id": "HReTO_pbKIE8",
        "colab": {
          "base_uri": "https://localhost:8080/"
        },
        "outputId": "6d185ae5-1319-4c60-f3f6-ebf5c1808bb1"
      },
      "execution_count": 4,
      "outputs": [
        {
          "output_type": "stream",
          "name": "stdout",
          "text": [
            "Generic vehicle is starting\n",
            "Toyota vehicle is starting\n",
            "Toyota car is driving\n"
          ]
        }
      ]
    },
    {
      "cell_type": "markdown",
      "source": [
        "7. What is polymorphism in OOP?\n",
        "- Polymorphism means “many forms”.\n",
        "In object-oriented programming, it allows the same method or operation to behave differently depending on the object that is calling it.\n",
        "\n",
        "It enables flexibility and code reuse.\n",
        "\n",
        "Two main types:\n",
        "\n",
        "Compile-time polymorphism (method overloading / operator overloading)\n",
        "\n",
        "Runtime polymorphism (method overriding in inheritance)\n"
      ],
      "metadata": {
        "id": "EzW4YHj1KrI8"
      }
    },
    {
      "cell_type": "code",
      "source": [
        "class Bird:\n",
        "    def fly(self):\n",
        "        print(\"Some birds can fly, some cannot\")\n",
        "\n",
        "class Sparrow(Bird):\n",
        "    def fly(self):\n",
        "        print(\"Sparrow can fly high!\")\n",
        "\n",
        "class Penguin(Bird):\n",
        "    def fly(self):\n",
        "        print(\"Penguin cannot fly, but swims well!\")\n",
        "\n",
        "# Polymorphism in action\n",
        "birds = [Sparrow(), Penguin()]\n",
        "\n",
        "for bird in birds:\n",
        "    bird.fly()\n"
      ],
      "metadata": {
        "id": "Okub1Cg_LNhJ",
        "colab": {
          "base_uri": "https://localhost:8080/"
        },
        "outputId": "e37e0013-2949-4d1d-bbc8-c0f98ffffd28"
      },
      "execution_count": 5,
      "outputs": [
        {
          "output_type": "stream",
          "name": "stdout",
          "text": [
            "Sparrow can fly high!\n",
            "Penguin cannot fly, but swims well!\n"
          ]
        }
      ]
    },
    {
      "cell_type": "markdown",
      "source": [
        "8. How is encapsulation achieved in Python?\n",
        "- Encapsulation in Python is the concept of bundling data (attributes) and methods (functions) that operate on that data into a single unit (class), while restricting direct access to some parts of the object. This helps protect data from accidental modification and enforces controlled access.\n",
        "\n",
        "Here’s how encapsulation is achieved in Python:\n",
        "\n",
        "1. Public Members\n",
        "\n",
        "Attributes and methods without any underscore are public.\n",
        "\n",
        "They can be accessed freely inside and outside the class."
      ],
      "metadata": {
        "id": "CUrLVeKQLaZL"
      }
    },
    {
      "cell_type": "code",
      "source": [
        "class Student:\n",
        "    def __init__(self, name, age):\n",
        "        self.name = name     # public attribute\n",
        "        self.age = age       # public attribute\n",
        "\n",
        "s = Student(\"Taru\", 26)\n",
        "print(s.name)  # Accessible\n",
        "print(s.age)   # Accessible\n"
      ],
      "metadata": {
        "colab": {
          "base_uri": "https://localhost:8080/"
        },
        "id": "6CuFCaIUIpvt",
        "outputId": "ca64f5b4-c2a5-4a69-fb08-1a97f2393090"
      },
      "execution_count": null,
      "outputs": [
        {
          "output_type": "stream",
          "name": "stdout",
          "text": [
            "Taru\n",
            "26\n"
          ]
        }
      ]
    },
    {
      "cell_type": "markdown",
      "source": [
        "2. Protected Members (_single underscore)\n",
        "\n",
        "Prefixing with a single underscore _variable indicates it is protected.\n",
        "\n",
        "It’s just a convention, meaning: “this is intended for internal use.”\n",
        "\n",
        "Still accessible from outside, but developers are expected not to touch it directly."
      ],
      "metadata": {
        "id": "Uue9RG2-Iubl"
      }
    },
    {
      "cell_type": "code",
      "source": [
        "class Student:\n",
        "    def __init__(self, name, age):\n",
        "        self._age = age    # protected attribute\n",
        "\n",
        "    def get_age(self):\n",
        "        return self._age\n",
        "\n",
        "s = Student(\"Taru\", 26)\n",
        "print(s._age)   # Accessible, but not recommended\n"
      ],
      "metadata": {
        "colab": {
          "base_uri": "https://localhost:8080/"
        },
        "id": "pGNMiq5xIzTI",
        "outputId": "ba0c2fd8-5bcf-4147-9cf3-965754e304d4"
      },
      "execution_count": null,
      "outputs": [
        {
          "output_type": "stream",
          "name": "stdout",
          "text": [
            "26\n"
          ]
        }
      ]
    },
    {
      "cell_type": "markdown",
      "source": [
        "3. Private Members (__double underscore)\n",
        "\n",
        "Prefixing with double underscores __variable makes attributes private.\n",
        "\n",
        "Python performs name mangling, changing __age to _ClassName__age, so it cannot be accessed directly."
      ],
      "metadata": {
        "id": "cv08VRQQI3nl"
      }
    },
    {
      "cell_type": "code",
      "source": [
        "class Student:\n",
        "    def __init__(self, name, age):\n",
        "        self.__age = age   # private attribute\n",
        "\n",
        "    def get_age(self):     # controlled access via getter\n",
        "        return self.__age\n",
        "\n",
        "    def set_age(self, age):  # controlled modification via setter\n",
        "        if age > 0:\n",
        "            self.__age = age\n",
        "        else:\n",
        "            print(\"Invalid age\")\n",
        "\n",
        "s = Student(\"Taru\", 26)\n",
        "# print(s.__age)\n",
        "print(s.get_age())\n",
        "s.set_age(28)\n",
        "print(s.get_age())\n"
      ],
      "metadata": {
        "colab": {
          "base_uri": "https://localhost:8080/"
        },
        "id": "nSd4FppjI5PM",
        "outputId": "cf98eb5a-3dde-4e9b-ea78-8c90e3c71d8f"
      },
      "execution_count": null,
      "outputs": [
        {
          "output_type": "stream",
          "name": "stdout",
          "text": [
            "26\n",
            "28\n"
          ]
        }
      ]
    },
    {
      "cell_type": "markdown",
      "source": [
        "4. Using @property Decorator (Pythonic way)\n",
        "\n",
        "Instead of writing explicit get_ and set_ methods, Python provides the @property decorator for cleaner code."
      ],
      "metadata": {
        "id": "KJQ2vXk2I-Fk"
      }
    },
    {
      "cell_type": "code",
      "source": [
        "class Student:\n",
        "    def __init__(self, name, age):\n",
        "        self.__age = age\n",
        "\n",
        "    @property\n",
        "    def age(self):\n",
        "        return self.__age\n",
        "\n",
        "    @age.setter\n",
        "    def age(self, value):\n",
        "        if value > 0:\n",
        "            self.__age = value\n",
        "        else:\n",
        "            print(\"Invalid age\")\n",
        "\n",
        "s = Student(\"Taru\", 26)\n",
        "print(s.age)\n",
        "s.age = 27\n",
        "print(s.age)\n"
      ],
      "metadata": {
        "colab": {
          "base_uri": "https://localhost:8080/"
        },
        "id": "2ZCr9qUNI_Ki",
        "outputId": "5cea1ce0-eec8-44dd-e38e-bcb7099ca7f0"
      },
      "execution_count": null,
      "outputs": [
        {
          "output_type": "stream",
          "name": "stdout",
          "text": [
            "26\n",
            "27\n"
          ]
        }
      ]
    },
    {
      "cell_type": "markdown",
      "source": [
        "9. What is a constructor in Python?\n",
        "A constructor in Python is a special method inside a class that automatically runs when you create (instantiate) an object of that class.\n",
        "\n",
        "In Python, the constructor method is always named __init__.\n",
        "\n",
        "1. Automatically Called – You don’t call it explicitly, it runs when you create an object.\n",
        "\n",
        "2. Used for Initialization – It sets up (initializes) the object’s attributes with default or given values.\n",
        "\n",
        "3. Always Named __init__ – Defined with two underscores before and after (dunder method).\n",
        "\n",
        "4. self Parameter – Refers to the current object being created."
      ],
      "metadata": {
        "id": "s-CSr84EJLbj"
      }
    },
    {
      "cell_type": "code",
      "source": [
        "# Example 1: Basic Constructor\n",
        "class Student:\n",
        "    def __init__(self, name, age):  # constructor\n",
        "        self.name = name\n",
        "        self.age = age\n",
        "\n",
        "# creating an object automatically calls the constructor\n",
        "s1 = Student(\"Taru\", 26)\n",
        "print(s1.name)\n",
        "print(s1.age)"
      ],
      "metadata": {
        "colab": {
          "base_uri": "https://localhost:8080/"
        },
        "id": "jkYw4dlyJlcY",
        "outputId": "2789e2c6-31a8-40db-d19c-825dc291b54c"
      },
      "execution_count": null,
      "outputs": [
        {
          "output_type": "stream",
          "name": "stdout",
          "text": [
            "Taru\n",
            "26\n"
          ]
        }
      ]
    },
    {
      "cell_type": "code",
      "source": [
        "# Example 2: Constructor with Default Values\n",
        "class Student:\n",
        "    def __init__(self, name=\"Unknown\", age=0):\n",
        "        self.name = name\n",
        "        self.age = age\n",
        "\n",
        "s1 = Student()                # no arguments\n",
        "s2 = Student(\"Taru\", 26)      # with arguments\n",
        "\n",
        "print(s1.name, s1.age)\n",
        "print(s2.name, s2.age)"
      ],
      "metadata": {
        "colab": {
          "base_uri": "https://localhost:8080/"
        },
        "id": "2nId4lcEJrYs",
        "outputId": "b7c795ca-d55d-4550-94ad-bb5b1e134610"
      },
      "execution_count": null,
      "outputs": [
        {
          "output_type": "stream",
          "name": "stdout",
          "text": [
            "Unknown 0\n",
            "Taru 26\n"
          ]
        }
      ]
    },
    {
      "cell_type": "code",
      "source": [
        "# Example 3: Constructor with Logic\n",
        "class BankAccount:\n",
        "    def __init__(self, balance):\n",
        "        if balance < 0:\n",
        "            self.balance = 0\n",
        "            print(\"Invalid balance, set to 0\")\n",
        "        else:\n",
        "            self.balance = balance\n",
        "\n",
        "acc = BankAccount(-500)\n",
        "print(acc.balance)"
      ],
      "metadata": {
        "colab": {
          "base_uri": "https://localhost:8080/"
        },
        "id": "lXLyNre6J1Ys",
        "outputId": "624dffbe-2a7c-4bc2-da55-a7cc76551279"
      },
      "execution_count": null,
      "outputs": [
        {
          "output_type": "stream",
          "name": "stdout",
          "text": [
            "Invalid balance, set to 0\n",
            "0\n"
          ]
        }
      ]
    },
    {
      "cell_type": "markdown",
      "source": [
        "10. What are class and static methods in Python?\n",
        "- In Python, besides instance methods (the usual ones that take self), we also have class methods and static methods. Both are defined inside a class but work differently.\n",
        "\n",
        "1. Instance Methods (default)\n",
        "\n",
        "Take self as the first parameter.\n",
        "\n",
        "Can access and modify object (instance) attributes."
      ],
      "metadata": {
        "id": "SUM8V0fjJ7Tk"
      }
    },
    {
      "cell_type": "code",
      "source": [
        "class Student:\n",
        "    def __init__(self, name):\n",
        "        self.name = name\n",
        "\n",
        "    def show(self):   # instance method\n",
        "        print(f\"Student name: {self.name}\")\n",
        "\n",
        "s = Student(\"Taru\")\n",
        "s.show()\n"
      ],
      "metadata": {
        "colab": {
          "base_uri": "https://localhost:8080/"
        },
        "id": "Yv-KMTyfKOQ9",
        "outputId": "7ee0114f-3a64-4ae0-8e7a-f8d94439abae"
      },
      "execution_count": null,
      "outputs": [
        {
          "output_type": "stream",
          "name": "stdout",
          "text": [
            "Student name: Taru\n"
          ]
        }
      ]
    },
    {
      "cell_type": "markdown",
      "source": [
        "2. Class Methods\n",
        "\n",
        "Defined using the @classmethod decorator.\n",
        "\n",
        "Take cls (class itself) as the first parameter.\n",
        "\n",
        "Can access and modify class-level attributes, but not instance attributes directly."
      ],
      "metadata": {
        "id": "XcdKqvM3KSaJ"
      }
    },
    {
      "cell_type": "code",
      "source": [
        "class Student:\n",
        "    school_name = \"ABC School\"   # class attribute\n",
        "\n",
        "    def __init__(self, name):\n",
        "        self.name = name\n",
        "\n",
        "    @classmethod\n",
        "    def change_school(cls, new_name):\n",
        "        cls.school_name = new_name   # modifies class attribute\n",
        "\n",
        "s1 = Student(\"Taru\")\n",
        "print(Student.school_name)\n",
        "\n",
        "Student.change_school(\"XYZ School\")\n",
        "print(Student.school_name)"
      ],
      "metadata": {
        "colab": {
          "base_uri": "https://localhost:8080/"
        },
        "id": "_FvRh5QWKWdC",
        "outputId": "d07a720d-d983-434c-e1aa-e5393412df85"
      },
      "execution_count": null,
      "outputs": [
        {
          "output_type": "stream",
          "name": "stdout",
          "text": [
            "ABC School\n",
            "XYZ School\n"
          ]
        }
      ]
    },
    {
      "cell_type": "markdown",
      "source": [
        "3. Static Methods\n",
        "\n",
        "Defined using the @staticmethod decorator.\n",
        "\n",
        "Do not take self or cls as the first argument.\n",
        "\n",
        "Work like normal functions, but belong to the class’s namespace.\n",
        "\n",
        "Used when the method logic is related to the class but doesn’t need object or class reference.\n"
      ],
      "metadata": {
        "id": "Nlpd8DmEKcbX"
      }
    },
    {
      "cell_type": "code",
      "source": [
        "class MathUtils:\n",
        "    @staticmethod\n",
        "    def add(a, b):\n",
        "        return a + b\n",
        "\n",
        "print(MathUtils.add(5, 7))\n"
      ],
      "metadata": {
        "colab": {
          "base_uri": "https://localhost:8080/"
        },
        "id": "Xis082HTKeYq",
        "outputId": "ad85a992-8081-4e57-b299-391bf66b8ef1"
      },
      "execution_count": null,
      "outputs": [
        {
          "output_type": "stream",
          "name": "stdout",
          "text": [
            "12\n"
          ]
        }
      ]
    },
    {
      "cell_type": "markdown",
      "source": [
        "11. What is method overloading in Python?\n",
        "- Method Overloading (General Meaning)\n",
        "\n",
        "In many OOP languages, method overloading means having multiple methods with the same name but different numbers/types of parameters.\n",
        "\n",
        "Example (in Java):\n"
      ],
      "metadata": {
        "id": "oeCBQ40JKnW-"
      }
    },
    {
      "cell_type": "code",
      "source": [
        "\"\"\" In Python, method overloading (having multiple methods with the same name\n",
        "but different parameters) is not supported in the same way as in Java or C++.\n",
        "The last defined method with the same name will override the previous ones.\n",
        "\n",
        "Example of how you might achieve similar behavior in Python (using default\n",
        "arguments or *args)\n",
        "\n",
        "class Calculator:\n",
        "     def add(self, a, b, c=0):\n",
        "         return a + b + c\n",
        "\n",
        "     def add(self, a, b): # This will override the previous add method\n",
        "          return a + b\n",
        "\n",
        "Example usage:\n",
        " calc = Calculator()\n",
        " print(calc.add(2, 3))    # Calls the second add method (5)\n",
        " print(calc.add(2, 3, 4)) # This would cause an error if the first add method\n",
        "                            was not overridden"
      ],
      "metadata": {
        "id": "FL80shhFKxNh"
      },
      "execution_count": null,
      "outputs": []
    },
    {
      "cell_type": "markdown",
      "source": [
        "Python’s Case\n",
        "\n",
        "Python does not support traditional method overloading (based on parameter type/number).\n",
        "Why? Because in Python, the last defined method with the same name overrides the previous ones."
      ],
      "metadata": {
        "id": "VaC_Dpudwa56"
      }
    },
    {
      "cell_type": "code",
      "source": [
        "class Example:\n",
        "    def greet(self, name):\n",
        "        print(\"Hello\", name)\n",
        "\n",
        "    def greet(self):   # this overrides the previous one\n",
        "        print(\"Hello, world!\")\n",
        "\n",
        "obj = Example()\n",
        "obj.greet()"
      ],
      "metadata": {
        "id": "i_Txws2swdqv"
      },
      "execution_count": null,
      "outputs": []
    },
    {
      "cell_type": "markdown",
      "source": [
        "How to Achieve Overloading in Python\n",
        "\n",
        "Since Python doesn’t allow multiple methods with the same name, we simulate method overloading in these ways:"
      ],
      "metadata": {
        "id": "yNI4wtvgwhi1"
      }
    },
    {
      "cell_type": "code",
      "source": [
        "#1. Using Default Arguments\n",
        "class Math:\n",
        "    def add(self, a=0, b=0, c=0):\n",
        "        return a + b + c\n",
        "\n",
        "m = Math()\n",
        "print(m.add(2))\n",
        "print(m.add(2, 3))\n",
        "print(m.add(2, 3, 4))"
      ],
      "metadata": {
        "colab": {
          "base_uri": "https://localhost:8080/"
        },
        "id": "SwC098P3wijj",
        "outputId": "f6bf96d7-40c2-4900-c7b6-0722204d442f"
      },
      "execution_count": null,
      "outputs": [
        {
          "output_type": "stream",
          "name": "stdout",
          "text": [
            "2\n",
            "5\n",
            "9\n"
          ]
        }
      ]
    },
    {
      "cell_type": "code",
      "source": [
        "#2. Using Variable-length Arguments (*args)\n",
        "class Math:\n",
        "    def add(self, *args):\n",
        "        return sum(args)\n",
        "\n",
        "m = Math()\n",
        "print(m.add(2))\n",
        "print(m.add(2, 3))\n",
        "print(m.add(2, 3, 4, 5))"
      ],
      "metadata": {
        "colab": {
          "base_uri": "https://localhost:8080/"
        },
        "id": "4D5rOxOdwqPP",
        "outputId": "5d48f497-bb1d-49a3-8a99-9b1d9a88f486"
      },
      "execution_count": null,
      "outputs": [
        {
          "output_type": "stream",
          "name": "stdout",
          "text": [
            "2\n",
            "5\n",
            "14\n"
          ]
        }
      ]
    },
    {
      "cell_type": "code",
      "source": [
        "# 3. Using functools.singledispatch (Overloading by Type)\n",
        "\n",
        "# Python’s functools module provides a decorator for function overloading based\n",
        "# on argument type.\n",
        "\n",
        "from functools import singledispatch\n",
        "\n",
        "@singledispatch\n",
        "def greet(arg):\n",
        "    print(\"Hello, unknown!\")\n",
        "\n",
        "@greet.register\n",
        "def _(arg: str):\n",
        "    print(\"Hello,\", arg)\n",
        "\n",
        "@greet.register\n",
        "def _(arg: int):\n",
        "    print(\"Hello, your lucky number is\", arg)\n",
        "\n",
        "greet(\"Taru\")\n",
        "greet(7)\n",
        "greet([1,2,3])"
      ],
      "metadata": {
        "colab": {
          "base_uri": "https://localhost:8080/"
        },
        "id": "f45TJbkswwVq",
        "outputId": "99d1ef0d-8f50-4d23-bcfd-68eed16a3410"
      },
      "execution_count": null,
      "outputs": [
        {
          "output_type": "stream",
          "name": "stdout",
          "text": [
            "Hello, Taru\n",
            "Hello, your lucky number is 7\n",
            "Hello, unknown!\n"
          ]
        }
      ]
    },
    {
      "cell_type": "markdown",
      "source": [
        "12. What is method overriding in OOP?\n",
        "- Method overriding happens when a child class provides its own implementation of a method that is already defined in its parent class.\n",
        "\n",
        "The method name, parameters, and return type must be the same in both parent and child.\n",
        "\n",
        "When you call the method on a child object, the child class version overrides the parent’s version.\n",
        "\n",
        "This is a form of runtime polymorphism (decision made at runtime).\n"
      ],
      "metadata": {
        "id": "74R-XfE_2yQk"
      }
    },
    {
      "cell_type": "code",
      "source": [
        "class Animal:\n",
        "    def sound(self):\n",
        "        print(\"Animals make sounds\")\n",
        "\n",
        "class Dog(Animal):\n",
        "    def sound(self):   # overriding parent method\n",
        "        print(\"Dogs bark\")\n",
        "\n",
        "class Cat(Animal):\n",
        "    def sound(self):   # overriding parent method\n",
        "        print(\"Cats meow\")\n",
        "\n",
        "# Testing\n",
        "a = Animal()\n",
        "a.sound()\n",
        "\n",
        "d = Dog()\n",
        "d.sound()\n",
        "\n",
        "c = Cat()\n",
        "c.sound()\n"
      ],
      "metadata": {
        "colab": {
          "base_uri": "https://localhost:8080/"
        },
        "id": "vGrLlRnW3Gj0",
        "outputId": "395a57e9-f61b-4a5e-ef2d-79bf6d5fe897"
      },
      "execution_count": null,
      "outputs": [
        {
          "output_type": "stream",
          "name": "stdout",
          "text": [
            "Animals make sounds\n",
            "Dogs bark\n",
            "Cats meow\n"
          ]
        }
      ]
    },
    {
      "cell_type": "markdown",
      "source": [
        "Using super() in Overriding\n",
        "\n",
        "Sometimes, you want the child method to extend the parent’s method instead of completely replacing it. You can use super() for this.\n"
      ],
      "metadata": {
        "id": "aGIB-poX3WTN"
      }
    },
    {
      "cell_type": "code",
      "source": [
        "class Vehicle:\n",
        "    def start(self):\n",
        "        print(\"Starting the vehicle...\")\n",
        "\n",
        "class Car(Vehicle):\n",
        "    def start(self):\n",
        "        super().start()   # calls parent version\n",
        "        print(\"Car engine started.\")\n",
        "\n",
        "c = Car()\n",
        "c.start()\n"
      ],
      "metadata": {
        "colab": {
          "base_uri": "https://localhost:8080/"
        },
        "id": "UcYZNT2X3Y2p",
        "outputId": "53ce5be6-5894-414f-9eb8-fc07c918045b"
      },
      "execution_count": null,
      "outputs": [
        {
          "output_type": "stream",
          "name": "stdout",
          "text": [
            "Starting the vehicle...\n",
            "Car engine started.\n"
          ]
        }
      ]
    },
    {
      "cell_type": "markdown",
      "source": [
        "13. What is a property decorator in Python?\n",
        "- The @property decorator in Python is a built-in feature that allows you to turn a method into an attribute-like access.\n",
        "\n",
        "Normally, we use getters and setters to access or update private attributes.\n",
        "\n",
        "With @property, we can do this in a cleaner, more Pythonic way — accessing attributes as if they were public, while still keeping encapsulation.\n",
        "\n",
        "Why use it?\n",
        "\n",
        "To control access to private attributes (__var).\n",
        "\n",
        "To add validation when setting values.\n",
        "\n",
        "To make code more readable (no need to call obj.get_x(), you can just do obj.x).\n",
        "\n",
        "Example 1: Without @property (traditional getter & setter)"
      ],
      "metadata": {
        "id": "b6a2yswp3sc2"
      }
    },
    {
      "cell_type": "code",
      "source": [
        "class Student:\n",
        "    def __init__(self, name, age):\n",
        "        self.__age = age   # private attribute\n",
        "        self.name = name\n",
        "\n",
        "    def get_age(self):\n",
        "        return self.__age\n",
        "\n",
        "    def set_age(self, age):\n",
        "        if age > 0:\n",
        "            self.__age = age\n",
        "        else:\n",
        "            print(\"Invalid age\")\n",
        "\n",
        "s = Student(\"Taru\", 26)\n",
        "print(s.get_age())   # getter\n",
        "s.set_age(27)        # setter\n",
        "print(s.get_age())\n"
      ],
      "metadata": {
        "id": "ivcl6XjyDVEd"
      },
      "execution_count": null,
      "outputs": []
    },
    {
      "cell_type": "code",
      "source": [
        "# Example 2: Using @property (Pythonic way)\n",
        "class Student:\n",
        "    def __init__(self, name, age):\n",
        "        self.__age = age\n",
        "        self.name = name\n",
        "\n",
        "    @property\n",
        "    def age(self):   # getter\n",
        "        return self.__age\n",
        "\n",
        "    @age.setter\n",
        "    def age(self, value):   # setter\n",
        "        if value > 0:\n",
        "            self.__age = value\n",
        "        else:\n",
        "            print(\"Invalid age\")\n",
        "\n",
        "s = Student(\"Taru\", 26)\n",
        "print(s.age)    # looks like attribute access (getter)\n",
        "s.age = 27      # looks like assignment (setter)\n",
        "print(s.age)\n"
      ],
      "metadata": {
        "id": "xifxhMczDp8U"
      },
      "execution_count": null,
      "outputs": []
    },
    {
      "cell_type": "code",
      "source": [
        "# Example 3: Read-Only Property\n",
        "\n",
        "#If you only define @property (without a setter), the attribute becomes read-only.\n",
        "class Circle:\n",
        "    def __init__(self, radius):\n",
        "        self.__radius = radius\n",
        "\n",
        "    @property\n",
        "    def area(self):   # read-only\n",
        "        return 3.14 * self.__radius ** 2\n",
        "\n",
        "c = Circle(5)\n",
        "print(c.area)"
      ],
      "metadata": {
        "colab": {
          "base_uri": "https://localhost:8080/"
        },
        "id": "4haSiCn0Du9P",
        "outputId": "4d8d08d4-5f23-45c2-ca89-8a2b33e88df3"
      },
      "execution_count": null,
      "outputs": [
        {
          "output_type": "stream",
          "name": "stdout",
          "text": [
            "78.5\n"
          ]
        }
      ]
    },
    {
      "cell_type": "markdown",
      "source": [
        "14. Why is polymorphism important in OOP?\n",
        "- Polymorphism means “many forms”.\n",
        "In OOP, it allows the same function/method name to behave differently depending on the object or context.\n",
        "\n",
        "Example:\n",
        "\n",
        "A Dog and a Cat both have a method speak().\n",
        "\n",
        "When you call speak() on a Dog, it barks; on a Cat, it meows.\n",
        "\n",
        "Why is Polymorphism Important?\n",
        "1. Code Reusability\n",
        "\n",
        "You can write generic code that works for different object types.\n",
        "\n",
        "Example: A function that calls speak() doesn’t care if the object is a Dog, Cat, or Bird.\n"
      ],
      "metadata": {
        "id": "cPhBRTCVKzwn"
      }
    },
    {
      "cell_type": "code",
      "source": [
        "class Dog:\n",
        "    def speak(self):\n",
        "        return \"Bark\"\n",
        "\n",
        "class Cat:\n",
        "    def speak(self):\n",
        "        return \"Meow\"\n",
        "\n",
        "def animal_sound(animal):\n",
        "    print(animal.speak())\n",
        "\n",
        "animal_sound(Dog())\n",
        "animal_sound(Cat())"
      ],
      "metadata": {
        "id": "4XZsKIQCK3Mm",
        "colab": {
          "base_uri": "https://localhost:8080/"
        },
        "outputId": "6445b021-1f27-48a7-9f4c-809fbdcc0bb8"
      },
      "execution_count": 1,
      "outputs": [
        {
          "output_type": "stream",
          "name": "stdout",
          "text": [
            "Bark\n",
            "Meow\n"
          ]
        }
      ]
    },
    {
      "cell_type": "code",
      "source": [
        "'''1. Create a parent class Animal with a method speak() that prints a\n",
        "generic message. Create a child class Dog that overrides the speak()\n",
        "method to print \"Bark!\"'''\n",
        "\n",
        "# Parent class\n",
        "class Animal:\n",
        "    def speak(self):\n",
        "        print(\"This animal makes a sound.\")\n",
        "\n",
        "# Child class\n",
        "class Dog(Animal):\n",
        "    def speak(self):\n",
        "        print(\"Bark!\")\n",
        "\n",
        "  # Example usage\n",
        "a = Animal()\n",
        "a.speak()\n",
        "\n",
        "d = Dog()\n",
        "d.speak()"
      ],
      "metadata": {
        "colab": {
          "base_uri": "https://localhost:8080/"
        },
        "id": "K54To_FEKdDD",
        "outputId": "b48ee31c-81df-4da3-cf45-f15661090417"
      },
      "execution_count": null,
      "outputs": [
        {
          "output_type": "stream",
          "name": "stdout",
          "text": [
            "This animal makes a sound.\n",
            "Bark!\n"
          ]
        }
      ]
    },
    {
      "cell_type": "markdown",
      "source": [
        "15. What is an abstract class in Python?\n",
        "- An abstract class in Python is a class that cannot be instantiated directly (you can’t create objects from it).\n",
        "It is meant to serve as a blueprint for other classes.\n",
        "\n",
        "It may contain abstract methods (methods declared but not implemented).\n",
        "\n",
        "Any class that inherits from an abstract class must implement all abstract methods, otherwise it also remains abstract.\n",
        "\n",
        "Abstract classes are defined using the abc module (ABC class and @abstractmethod decorator).\n",
        "\n",
        "Why use Abstract Classes?\n",
        "\n",
        "To enforce a contract — subclasses must implement specific methods.\n",
        "\n",
        "To provide a common interface across different subclasses.\n",
        "\n",
        "To ensure consistency in class hierarchies."
      ],
      "metadata": {
        "id": "RmSdSlybtukJ"
      }
    },
    {
      "cell_type": "code",
      "source": [
        "# Example 1: Simple Abstract Class\n",
        "from abc import ABC, abstractmethod\n",
        "\n",
        "class Animal(ABC):   # Abstract class\n",
        "    @abstractmethod\n",
        "    def speak(self):   # Abstract method\n",
        "        pass\n",
        "\n",
        "class Dog(Animal):\n",
        "    def speak(self):\n",
        "        return \"Bark\"\n",
        "\n",
        "class Cat(Animal):\n",
        "    def speak(self):\n",
        "        return \"Meow\"\n",
        "\n",
        "s\n",
        "d = Dog()\n",
        "print(d.speak())\n",
        "c = Cat()\n",
        "print(c.speak())\n"
      ],
      "metadata": {
        "colab": {
          "base_uri": "https://localhost:8080/"
        },
        "id": "E14HnGuyzlVX",
        "outputId": "05c785e6-e0bf-4249-f353-f43946d81718"
      },
      "execution_count": 3,
      "outputs": [
        {
          "output_type": "stream",
          "name": "stdout",
          "text": [
            "Bark\n",
            "Meow\n"
          ]
        }
      ]
    },
    {
      "cell_type": "code",
      "source": [
        "#Example 2: Abstract Class with Concrete Methods\n",
        "\n",
        "#Abstract classes can also have regular methods along with abstract ones.\n",
        "from abc import ABC, abstractmethod\n",
        "\n",
        "class Vehicle(ABC):\n",
        "    @abstractmethod\n",
        "    def start(self):\n",
        "        pass\n",
        "\n",
        "    def fuel_type(self):    # concrete method\n",
        "        return \"Petrol or Diesel\"\n",
        "\n",
        "class Car(Vehicle):\n",
        "    def start(self):\n",
        "        return \"Car engine started\"\n",
        "\n",
        "c = Car()\n",
        "print(c.start())\n",
        "print(c.fuel_type())\n"
      ],
      "metadata": {
        "colab": {
          "base_uri": "https://localhost:8080/"
        },
        "id": "E4ctCI9Dzveq",
        "outputId": "94f7f8eb-a210-449c-f814-61883f0d1a37"
      },
      "execution_count": 2,
      "outputs": [
        {
          "output_type": "stream",
          "name": "stdout",
          "text": [
            "Car engine started\n",
            "Petrol or Diesel\n"
          ]
        }
      ]
    },
    {
      "cell_type": "markdown",
      "source": [
        "16. What are the advantages of OOP?\n",
        "- Object-Oriented Programming (OOP) is widely used because it offers several advantages over procedural programming.\n",
        "\n",
        "Advantages of OOP\n",
        "1. Modularity (Code Organization)\n",
        "\n",
        "Classes and objects help break down a large program into smaller, manageable parts.\n",
        "\n",
        "Easier to organize, debug, and maintain.\n",
        "\n",
        "Example: A Bank system can have separate classes like Customer, Account, Transaction.\n",
        "\n",
        "2. Reusability\n",
        "\n",
        "Once a class is written, it can be reused across different projects or extended with inheritance.\n",
        "\n",
        "Saves time and effort.\n",
        "\n",
        "Example: A Vehicle class can be reused to create Car, Bike, Truck classes.\n",
        "\n",
        "3. Encapsulation (Data Hiding)\n",
        "\n",
        "Objects bundle data and methods together.\n",
        "\n",
        "Internal details are hidden, and controlled access is provided via getters, setters, or properties.\n",
        "\n",
        "Example: A BankAccount class hides the balance but provides deposit() and withdraw() methods.\n",
        "\n",
        "4. Inheritance (Code Reuse & Extensibility)\n",
        "\n",
        "Child classes can inherit features from parent classes.\n",
        "\n",
        "Encourages hierarchical design and avoids code duplication.\n",
        "\n",
        "Example: Dog and Cat inherit from Animal.\n",
        "\n",
        "5. Polymorphism (Flexibility)\n",
        "\n",
        "Same method name can work differently depending on the object.\n",
        "\n",
        "Makes code more flexible and easier to extend.\n",
        "\n",
        "Example: sound() works differently for Dog, Cat, Bird.\n",
        "\n",
        "6. Abstraction (Focus on Essentials)\n",
        "\n",
        "Abstract classes and interfaces allow defining blueprints without exposing implementation details.\n",
        "\n",
        "Users focus only on what an object does, not how.\n",
        "\n",
        "Example: A Payment class with abstract pay() method for CreditCardPayment, UPIPayment.\n",
        "\n",
        "7. Maintainability\n",
        "\n",
        "Because of modularity, it’s easier to update or fix parts of a program without breaking the whole system.\n",
        "\n",
        "8. Scalability\n",
        "\n",
        "OOP makes it easier to scale projects by adding new classes and features without rewriting existing code.\n",
        "\n",
        "9. Real-World Modeling\n",
        "\n",
        "OOP maps directly to real-world entities (objects with attributes and behaviors).\n",
        "\n",
        "Makes software design more intuitive.\n",
        "\n",
        "Example: A Student object has name, age (attributes) and study(), take_exam() (methods)."
      ],
      "metadata": {
        "id": "IUU7ZfS_0aBs"
      }
    },
    {
      "cell_type": "markdown",
      "source": [
        "17. What is the difference between a class variable and an instance variable?\n",
        "- Class Variable\n",
        "\n",
        "Belongs to the class itself (shared by all objects).\n",
        "\n",
        "Defined inside the class, but outside any instance methods.\n",
        "\n",
        "Changing it affects all objects of the class.\n",
        "\n",
        "- Instance Variable\n",
        "\n",
        "Belongs to a specific object (instance).\n",
        "\n",
        "Defined inside the constructor (__init__) using self.\n",
        "\n",
        "Each object has its own separate copy."
      ],
      "metadata": {
        "id": "-gcvtCOf6Coq"
      }
    },
    {
      "cell_type": "code",
      "source": [
        "# Example in Python\n",
        "class Student:\n",
        "    # Class variable (shared by all objects)\n",
        "    school_name = \"ABC School\"\n",
        "\n",
        "    def __init__(self, name, age):\n",
        "        # Instance variables (unique for each object)\n",
        "        self.name = name\n",
        "        self.age = age\n",
        "\n",
        "# Create objects\n",
        "s1 = Student(\"Taru\", 26)\n",
        "s2 = Student(\"Riya\", 22)\n",
        "\n",
        "# Access class variable\n",
        "print(s1.school_name)   # ABC School\n",
        "print(s2.school_name)   # ABC School\n",
        "\n",
        "# Access instance variable\n",
        "print(s1.name, s1.age)  # Taru 26\n",
        "print(s2.name, s2.age)  # Riya 22\n",
        "\n",
        "# Modify class variable via class\n",
        "Student.school_name = \"XYZ School\"\n",
        "print(s1.school_name)   # XYZ School\n",
        "print(s2.school_name)   # XYZ School\n",
        "\n",
        "# Modify instance variable\n",
        "s1.age = 27\n",
        "print(s1.age)  # 27 (only s1 changed)\n",
        "print(s2.age)  # 22 (s2 unchanged)\n"
      ],
      "metadata": {
        "id": "tYqYg7sj6K1_"
      },
      "execution_count": null,
      "outputs": []
    },
    {
      "cell_type": "markdown",
      "source": [],
      "metadata": {
        "id": "BIazWiRh6Tqo"
      }
    },
    {
      "cell_type": "markdown",
      "source": [
        "18. What is multiple inheritance in Python?\n",
        "- Multiple inheritance means a class can inherit from more than one parent class.\n",
        "\n",
        "The child class then inherits attributes and methods from all parent classes.\n",
        "\n",
        "Syntax:\n",
        "\n",
        "class Child(Parent1, Parent2, ...):\n",
        "    \n",
        "    # child class body\n"
      ],
      "metadata": {
        "id": "YMJxVtXI6TwC"
      }
    },
    {
      "cell_type": "code",
      "source": [
        "# Example of Multiple Inheritance\n",
        "class Father:\n",
        "    def skill(self):\n",
        "        print(\"Father: Knows driving\")\n",
        "\n",
        "class Mother:\n",
        "    def skill(self):\n",
        "        print(\"Mother: Knows cooking\")\n",
        "\n",
        "class Child(Father, Mother):\n",
        "    def skill(self):\n",
        "        print(\"Child: Inherits both skills\")\n",
        "\n",
        "c = Child()\n",
        "c.skill()\n"
      ],
      "metadata": {
        "id": "dp24y0_IEh0d"
      },
      "execution_count": null,
      "outputs": []
    },
    {
      "cell_type": "code",
      "source": [
        "'''Method Resolution Order (MRO)\n",
        "\n",
        "When multiple parents define the same method, Python uses the MRO\n",
        "(Method Resolution Order) to decide which one to call.'''\n",
        "\n",
        "class A:\n",
        "    def show(self):\n",
        "        print(\"A\")\n",
        "\n",
        "class B:\n",
        "    def show(self):\n",
        "        print(\"B\")\n",
        "\n",
        "class C(A, B):   # inherits from A and B\n",
        "    pass\n",
        "\n",
        "c = C()\n",
        "c.show()\n",
        "\n",
        "# Because in class C(A, B), A comes first, so Python looks there first.\n"
      ],
      "metadata": {
        "colab": {
          "base_uri": "https://localhost:8080/"
        },
        "id": "AV6-POQKEqB9",
        "outputId": "f0771b6d-36d6-425e-bb2c-4507790cfe2e"
      },
      "execution_count": 1,
      "outputs": [
        {
          "output_type": "stream",
          "name": "stdout",
          "text": [
            "A\n"
          ]
        }
      ]
    },
    {
      "cell_type": "code",
      "source": [
        "# You can check MRO with:\n",
        "print(C.mro())\n"
      ],
      "metadata": {
        "colab": {
          "base_uri": "https://localhost:8080/"
        },
        "id": "qUQunpXlGaOa",
        "outputId": "17a966ea-bcc0-48a9-b916-abb3ccf881fb"
      },
      "execution_count": 2,
      "outputs": [
        {
          "output_type": "stream",
          "name": "stdout",
          "text": [
            "[<class '__main__.C'>, <class '__main__.A'>, <class '__main__.B'>, <class 'object'>]\n"
          ]
        }
      ]
    },
    {
      "cell_type": "code",
      "source": [
        "'''Example with super() in Multiple Inheritance\n",
        "\n",
        "Python uses C3 Linearization for MRO, which ensures consistent order.'''\n",
        "\n",
        "class A:\n",
        "    def show(self):\n",
        "        print(\"A\")\n",
        "\n",
        "class B(A):\n",
        "    def show(self):\n",
        "        super().show()\n",
        "        print(\"B\")\n",
        "\n",
        "class C(A):\n",
        "    def show(self):\n",
        "        super().show()\n",
        "        print(\"C\")\n",
        "\n",
        "class D(B, C):   # Multiple inheritance\n",
        "    def show(self):\n",
        "        super().show()\n",
        "        print(\"D\")\n",
        "\n",
        "d = D()\n",
        "d.show()\n"
      ],
      "metadata": {
        "colab": {
          "base_uri": "https://localhost:8080/"
        },
        "id": "6acRfjgWHFbT",
        "outputId": "65ffe2e4-887f-4d16-ffc2-cd8b986ff9ff"
      },
      "execution_count": 3,
      "outputs": [
        {
          "output_type": "stream",
          "name": "stdout",
          "text": [
            "A\n",
            "C\n",
            "B\n",
            "D\n"
          ]
        }
      ]
    },
    {
      "cell_type": "code",
      "source": [
        "'''19. Explain the purpose of ‘’__str__’ and ‘__repr__’ ‘ methods in Python.\n",
        "- __str__ Method\n",
        "\n",
        "Stands for “string representation”.\n",
        "\n",
        "Called by str(obj) or print(obj).\n",
        "\n",
        "Its goal: Provide a user-friendly, readable string representation of the object.\n",
        "\n",
        "Mainly for end users.'''\n",
        "\n",
        "class Student:\n",
        "    def __init__(self, name, age):\n",
        "        self.name = name\n",
        "        self.age = age\n",
        "\n",
        "    def __str__(self):\n",
        "        return f\"Student(Name: {self.name}, Age: {self.age})\"\n",
        "\n",
        "s = Student(\"Taru\", 26)\n",
        "print(s)        # Uses __str__\n"
      ],
      "metadata": {
        "colab": {
          "base_uri": "https://localhost:8080/"
        },
        "id": "azQ7gPVtHi2H",
        "outputId": "86f95b61-11a2-4b06-c70b-cd87dba4d6ab"
      },
      "execution_count": 4,
      "outputs": [
        {
          "output_type": "stream",
          "name": "stdout",
          "text": [
            "Student(Name: Taru, Age: 26)\n"
          ]
        }
      ]
    },
    {
      "cell_type": "code",
      "source": [
        "'''__repr__ Method\n",
        "\n",
        "Stands for “representation”.\n",
        "\n",
        "Called by repr(obj) or just typing obj in the Python shell.\n",
        "\n",
        "Its goal: Provide a developer-oriented, unambiguous string representation of the object.\n",
        "\n",
        "Ideally, the string should be something that could be used to recreate the object.\n",
        "\n",
        "Mainly for developers/debugging.\n",
        "\n",
        "Example:'''\n",
        "class Student:\n",
        "    def __init__(self, name, age):\n",
        "        self.name = name\n",
        "        self.age = age\n",
        "\n",
        "    def __repr__(self):\n",
        "        return f\"Student('{self.name}', {self.age})\"\n",
        "\n",
        "s = Student(\"Taru\", 26)\n",
        "print(repr(s))  # Uses __repr__\n"
      ],
      "metadata": {
        "colab": {
          "base_uri": "https://localhost:8080/"
        },
        "id": "RmUFLFaYHvjJ",
        "outputId": "e80e8c16-09eb-4b35-df99-de7ef8716e3a"
      },
      "execution_count": 5,
      "outputs": [
        {
          "output_type": "stream",
          "name": "stdout",
          "text": [
            "Student('Taru', 26)\n"
          ]
        }
      ]
    },
    {
      "cell_type": "code",
      "source": [
        "'''Both Together\n",
        "\n",
        "If you define both, Python prefers __str__ when printing, but falls back to\n",
        "__repr__ if __str__ isn’t defined.'''\n",
        "\n",
        "class Student:\n",
        "    def __init__(self, name, age):\n",
        "        self.name = name\n",
        "        self.age = age\n",
        "\n",
        "    def __str__(self):\n",
        "        return f\"{self.name} ({self.age} years old)\"\n",
        "\n",
        "    def __repr__(self):\n",
        "        return f\"Student('{self.name}', {self.age})\"\n",
        "\n",
        "s = Student(\"Taru\", 26)\n",
        "\n",
        "print(s)        # __str__ → Taru (26 years old)\n",
        "print(repr(s))  # __repr__ → Student('Taru', 26)\n"
      ],
      "metadata": {
        "colab": {
          "base_uri": "https://localhost:8080/"
        },
        "id": "M42y3-c0H7iM",
        "outputId": "3ed3732e-4d0b-4523-eebf-90f20d89d641"
      },
      "execution_count": 6,
      "outputs": [
        {
          "output_type": "stream",
          "name": "stdout",
          "text": [
            "Taru (26 years old)\n",
            "Student('Taru', 26)\n"
          ]
        }
      ]
    },
    {
      "cell_type": "markdown",
      "source": [
        "20. What is the significance of the ‘super()’ function in Python?\n",
        "- super() is a built-in function that returns a proxy object representing the parent (or superclass).\n",
        "\n",
        "It allows you to call methods of a parent class inside a child class.\n",
        "\n",
        "General syntax:\n",
        "\n",
        "super().method_name(args)\n",
        "\n",
        "Why use super()?\n",
        "\n",
        "Avoids repeating parent class names\n",
        "(helps if the parent class changes later).\n",
        "\n",
        "Supports multiple inheritance\n",
        "Works with MRO (Method Resolution Order) so the correct parent is called automatically.\n",
        "\n",
        "Keeps code clean & maintainable\n",
        "No need to hardcode parent class names everywhere."
      ],
      "metadata": {
        "id": "ureH96Y1JIN3"
      }
    },
    {
      "cell_type": "code",
      "source": [
        "# Example 1: Basic Usage\n",
        "\n",
        "class Parent:\n",
        "    def show(self):\n",
        "        print(\"Parent class method\")\n",
        "\n",
        "class Child(Parent):\n",
        "    def show(self):\n",
        "        super().show()   # Calls Parent's show()\n",
        "        print(\"Child class method\")\n",
        "\n",
        "c = Child()\n",
        "c.show()\n"
      ],
      "metadata": {
        "id": "cWjWH0RRZmPw"
      },
      "execution_count": null,
      "outputs": []
    },
    {
      "cell_type": "code",
      "source": [
        "'''Example 2: With __init__\n",
        "super() is often used in constructors to call the parent’s constructor.'''\n",
        "\n",
        "class Person:\n",
        "    def __init__(self, name):\n",
        "        self.name = name\n",
        "\n",
        "class Student(Person):\n",
        "    def __init__(self, name, roll_no):\n",
        "        super().__init__(name)   # Calls Person.__init__\n",
        "        self.roll_no = roll_no\n",
        "\n",
        "s = Student(\"Taru\", 101)\n",
        "print(s.name, s.roll_no)\n"
      ],
      "metadata": {
        "id": "7hvRJhfZZtBl"
      },
      "execution_count": null,
      "outputs": []
    },
    {
      "cell_type": "code",
      "source": [
        "# Example 3: Multiple Inheritance (MRO)\n",
        "class A:\n",
        "    def greet(self):\n",
        "        print(\"Hello from A\")\n",
        "\n",
        "class B(A):\n",
        "    def greet(self):\n",
        "        super().greet()\n",
        "        print(\"Hello from B\")\n",
        "\n",
        "class C(A):\n",
        "    def greet(self):\n",
        "        super().greet()\n",
        "        print(\"Hello from C\")\n",
        "\n",
        "class D(B, C):\n",
        "    def greet(self):\n",
        "        super().greet()\n",
        "        print(\"Hello from D\")\n",
        "\n",
        "d = D()\n",
        "d.greet()\n"
      ],
      "metadata": {
        "id": "EIhDyKQ_Z3BG"
      },
      "execution_count": null,
      "outputs": []
    },
    {
      "cell_type": "markdown",
      "source": [
        "21. What is the significance of the __del__ method in Python?\n",
        "- __del__ is called when an object is about to be destroyed (i.e., when it goes out of scope or is deleted).\n",
        "\n",
        "It is used to clean up resources like closing files, releasing memory, or disconnecting from a database.\n"
      ],
      "metadata": {
        "id": "v3yVvabqaCUA"
      }
    },
    {
      "cell_type": "markdown",
      "source": [
        "Syntax:\n",
        "class MyClass:\n",
        "    def __del__(self):\n",
        "        print(\"Destructor called, object deleted\")\n"
      ],
      "metadata": {
        "id": "gIW_-13haREY"
      }
    },
    {
      "cell_type": "code",
      "source": [
        "# Example 1: Basic Destructor\n",
        "class Demo:\n",
        "    def __init__(self):\n",
        "        print(\"Object created\")\n",
        "\n",
        "    def __del__(self):\n",
        "        print(\"Destructor called, object destroyed\")\n",
        "\n",
        "obj = Demo()\n",
        "del obj   # Explicitly deleting\n"
      ],
      "metadata": {
        "id": "aFslOc7fabCx"
      },
      "execution_count": null,
      "outputs": []
    },
    {
      "cell_type": "code",
      "source": [
        "# Example 2: File Cleanup\n",
        "class FileHandler:\n",
        "    def __init__(self, filename):\n",
        "        self.file = open(filename, \"w\")\n",
        "        print(\"File opened\")\n",
        "\n",
        "    def __del__(self):\n",
        "        self.file.close()\n",
        "        print(\"File closed\")\n",
        "\n",
        "f = FileHandler(\"test.txt\")\n",
        "del f\n"
      ],
      "metadata": {
        "colab": {
          "base_uri": "https://localhost:8080/"
        },
        "id": "b-Y_EYhXagFV",
        "outputId": "c34b4643-6803-4114-8fd7-46af84a469d7"
      },
      "execution_count": 1,
      "outputs": [
        {
          "output_type": "stream",
          "name": "stdout",
          "text": [
            "File opened\n",
            "File closed\n"
          ]
        }
      ]
    },
    {
      "cell_type": "markdown",
      "source": [
        "Important Notes About __del__\n",
        "\n",
        "1. Automatic Call – Python’s garbage collector calls __del__ when the reference count drops to zero.\n",
        "\n",
        "2. Not guaranteed immediately – Timing depends on the garbage collector (not always predictable).\n",
        "\n",
        "3. Circular references – If objects reference each other, __del__ may never get called.\n",
        "\n",
        "4. Better alternative – Usually, use context managers (with statement) instead of relying on destructors."
      ],
      "metadata": {
        "id": "F7vQM7U7aoVW"
      }
    },
    {
      "cell_type": "code",
      "source": [
        "# Example 3: Using with Instead of __del__\n",
        "with open(\"test.txt\", \"w\") as f:\n",
        "    f.write(\"Hello, World!\")\n",
        "# File automatically closed here (no need for __del__)\n"
      ],
      "metadata": {
        "id": "jU_acsNYawMP"
      },
      "execution_count": 2,
      "outputs": []
    },
    {
      "cell_type": "markdown",
      "source": [
        "22. What is the difference between @staticmethod and @classmethod in Python?\n",
        "- @staticmethod\n",
        "\n",
        "A method that does not take self or cls as the first argument.\n",
        "\n",
        "Works like a normal function but is grouped inside a class for organization.\n",
        "\n",
        "Cannot access or modify class variables or instance variables.\n",
        "\n",
        "Useful for utility/helper functions related to the class.\n",
        "\n"
      ],
      "metadata": {
        "id": "wOype49ta0qw"
      }
    },
    {
      "cell_type": "code",
      "source": [
        "# Example:\n",
        "\n",
        "class MathUtils:\n",
        "    @staticmethod\n",
        "    def add(x, y):\n",
        "        return x + y\n",
        "\n",
        "print(MathUtils.add(5, 3))"
      ],
      "metadata": {
        "id": "Owkex6acbJq1"
      },
      "execution_count": null,
      "outputs": []
    },
    {
      "cell_type": "markdown",
      "source": [
        "@classmethod\n",
        "\n",
        "A method that takes cls (class reference) as the first argument.\n",
        "\n",
        "Can access and modify class-level variables (but not instance variables directly).\n",
        "\n",
        "Useful for factory methods (alternative constructors)."
      ],
      "metadata": {
        "id": "YeFmSquMbPFg"
      }
    },
    {
      "cell_type": "code",
      "source": [
        "# Example:\n",
        "class Student:\n",
        "    count = 0\n",
        "\n",
        "    def __init__(self, name):\n",
        "        self.name = name\n",
        "        Student.count += 1\n",
        "\n",
        "    @classmethod\n",
        "    def get_count(cls):\n",
        "        return cls.count\n",
        "\n",
        "s1 = Student(\"Taru\")\n",
        "s2 = Student(\"Mishra\")\n",
        "print(Student.get_count())"
      ],
      "metadata": {
        "id": "9oqgdWzxbQFL"
      },
      "execution_count": null,
      "outputs": []
    },
    {
      "cell_type": "code",
      "source": [
        "# Example Showing Both Together\n",
        "\n",
        "class Circle:\n",
        "    pi = 3.14\n",
        "\n",
        "    def __init__(self, radius):\n",
        "        self.radius = radius\n",
        "\n",
        "    @staticmethod\n",
        "    def area_formula():\n",
        "        return \"π × r²\"\n",
        "\n",
        "    @classmethod\n",
        "    def with_diameter(cls, diameter):\n",
        "        return cls(diameter / 2)\n",
        "\n",
        "c1 = Circle(5)\n",
        "print(Circle.area_formula())\n",
        "c2 = Circle.with_diameter(10)\n",
        "print(c2.radius)\n"
      ],
      "metadata": {
        "id": "T6CUK5WgbWMa"
      },
      "execution_count": null,
      "outputs": []
    },
    {
      "cell_type": "markdown",
      "source": [
        "23. How does polymorphism work in Python with inheritance?\n",
        "- Polymorphism means \"many forms\".\n",
        "\n",
        "In OOP, it allows the same method name to behave differently depending on the object that calls it.\n",
        "\n",
        "In Python, it’s achieved naturally because of dynamic typing + inheritance.\n",
        "\n",
        "Polymorphism with Inheritance\n",
        "\n",
        "When a child class overrides a method from the parent class, we get polymorphic behavior.\n",
        "\n",
        "The same method call works differently depending on whether the object is from the parent or child."
      ],
      "metadata": {
        "id": "5Por2LgWbe-T"
      }
    },
    {
      "cell_type": "code",
      "source": [
        "# Example 1: Basic Polymorphism\n",
        "class Animal:\n",
        "    def speak(self):\n",
        "        return \"Some sound\"\n",
        "\n",
        "class Dog(Animal):\n",
        "    def speak(self):\n",
        "        return \"Bark\"\n",
        "\n",
        "class Cat(Animal):\n",
        "    def speak(self):\n",
        "        return \"Meow\"\n",
        "\n",
        "animals = [Dog(), Cat(), Animal()]\n",
        "\n",
        "for a in animals:\n",
        "    print(a.speak())\n",
        "\n",
        "# the same method speak() behaves differently for Dog, Cat, and Animal."
      ],
      "metadata": {
        "id": "CyWW2TLabqIE"
      },
      "execution_count": null,
      "outputs": []
    },
    {
      "cell_type": "code",
      "source": [
        "# Example 2: Polymorphism + Method Overriding\n",
        "class Shape:\n",
        "    def area(self):\n",
        "        raise NotImplementedError(\"Subclass must implement this method\")\n",
        "\n",
        "class Circle(Shape):\n",
        "    def __init__(self, radius):\n",
        "        self.radius = radius\n",
        "    def area(self):\n",
        "        return 3.14 * self.radius ** 2\n",
        "\n",
        "class Rectangle(Shape):\n",
        "    def __init__(self, width, height):\n",
        "        self.width = width\n",
        "        self.height = height\n",
        "    def area(self):\n",
        "        return self.width * self.height\n",
        "\n",
        "shapes = [Circle(5), Rectangle(4, 6)]\n",
        "\n",
        "for s in shapes:\n",
        "    print(s.area())\n",
        "'''Even though both classes use the same method name area(),\n",
        "each subclass provides its own implementation.'''"
      ],
      "metadata": {
        "id": "LMCFUAKvb0Zy"
      },
      "execution_count": null,
      "outputs": []
    },
    {
      "cell_type": "code",
      "source": [
        "'''Example 3: Using super() with Polymorphism\n",
        "\n",
        "Sometimes, child classes extend (not completely replace) parent behavior.'''\n",
        "\n",
        "class Bird:\n",
        "    def fly(self):\n",
        "        print(\"Bird is flying\")\n",
        "\n",
        "class Eagle(Bird):\n",
        "    def fly(self):\n",
        "        super().fly()   # Call parent version\n",
        "        print(\"Eagle is soaring high\")\n",
        "\n",
        "e = Eagle()\n",
        "e.fly()\n"
      ],
      "metadata": {
        "id": "qw2dGbb-cCBn"
      },
      "execution_count": null,
      "outputs": []
    },
    {
      "cell_type": "markdown",
      "source": [
        "24. What is method chaining in Python OOP?\n",
        "- Method chaining means calling multiple methods on the same object in a single line, one after another.\n",
        "\n",
        "Each method must return self (the current object) so that the next method can be called.\n",
        "\n",
        " General form:\n",
        "\n",
        "obj.method1().method2().method3()\n"
      ],
      "metadata": {
        "id": "LZ9Mf_zncitg"
      }
    },
    {
      "cell_type": "code",
      "source": [
        "# Example 1: Basic Method Chaining\n",
        "\n",
        "class Person:\n",
        "    def __init__(self, name):\n",
        "        self.name = name\n",
        "\n",
        "    def say_hello(self):\n",
        "        print(f\"Hello, I am {self.name}\")\n",
        "        return self   # return self for chaining\n",
        "\n",
        "    def say_age(self, age):\n",
        "        print(f\"I am {age} years old\")\n",
        "        return self\n",
        "\n",
        "# Chaining methods\n",
        "p = Person(\"Taru\")\n",
        "p.say_hello().say_age(26)\n"
      ],
      "metadata": {
        "id": "pIsMOIl4cy9j"
      },
      "execution_count": null,
      "outputs": []
    },
    {
      "cell_type": "code",
      "source": [
        "# Example 2: Builder Pattern (Fluent Interface)\n",
        "class Pizza:\n",
        "    def __init__(self):\n",
        "        self.toppings = []\n",
        "\n",
        "    def add_cheese(self):\n",
        "        self.toppings.append(\"cheese\")\n",
        "        return self\n",
        "\n",
        "    def add_tomato(self):\n",
        "        self.toppings.append(\"tomato\")\n",
        "        return self\n",
        "\n",
        "    def add_olives(self):\n",
        "        self.toppings.append(\"olives\")\n",
        "        return self\n",
        "\n",
        "    def show(self):\n",
        "        print(\"Pizza with:\", \", \".join(self.toppings))\n",
        "        return self\n",
        "\n",
        "# Method chaining\n",
        "pizza = Pizza()\n",
        "pizza.add_cheese().add_tomato().add_olives().show()\n"
      ],
      "metadata": {
        "id": "u7wA6zYHc6sU"
      },
      "execution_count": null,
      "outputs": []
    },
    {
      "cell_type": "code",
      "source": [
        "# Example 3: Updating Values\n",
        "class BankAccount:\n",
        "    def __init__(self, balance=0):\n",
        "        self.balance = balance\n",
        "\n",
        "    def deposit(self, amount):\n",
        "        self.balance += amount\n",
        "        return self\n",
        "\n",
        "    def withdraw(self, amount):\n",
        "        self.balance -= amount\n",
        "        return self\n",
        "\n",
        "    def show_balance(self):\n",
        "        print(f\"Balance: {self.balance}\")\n",
        "        return self\n",
        "\n",
        "# Method chaining\n",
        "account = BankAccount()\n",
        "account.deposit(1000).withdraw(300).show_balance()\n"
      ],
      "metadata": {
        "id": "pVNi1sA3dJzD"
      },
      "execution_count": null,
      "outputs": []
    },
    {
      "cell_type": "markdown",
      "source": [
        "25.  What is the purpose of the __call__ method in Python?\n",
        "- __call__ is invoked when you call an object as if it were a function.\n",
        "\n",
        "If a class defines __call__, its instances can be used like functions.\n",
        "\n",
        "General form:\n",
        "class MyClass:\n",
        "    def __call__(self, *args, **kwargs):\n",
        "        # behavior when object is called like a function\n"
      ],
      "metadata": {
        "id": "hQczSGuZdOV5"
      }
    },
    {
      "cell_type": "code",
      "source": [
        "# Example 1: Basic Usage\n",
        "class Greeter:\n",
        "    def __init__(self, name):\n",
        "        self.name = name\n",
        "\n",
        "    def __call__(self, greeting):\n",
        "        return f\"{greeting}, {self.name}!\"\n",
        "\n",
        "g = Greeter(\"Taru\")\n",
        "print(g(\"Hello\"))   # ✅ Object used like a function\n"
      ],
      "metadata": {
        "id": "mm25ZNxTdjV_"
      },
      "execution_count": null,
      "outputs": []
    },
    {
      "cell_type": "code",
      "source": [
        "# Example 2: Function Objects\n",
        "class Adder:\n",
        "    def __init__(self, x):\n",
        "        self.x = x\n",
        "\n",
        "    def __call__(self, y):\n",
        "        return self.x + y\n",
        "\n",
        "add5 = Adder(5)\n",
        "print(add5(10))   # ✅ behaves like function f(y) = x + y\n"
      ],
      "metadata": {
        "id": "4qDNeKQodwEm"
      },
      "execution_count": null,
      "outputs": []
    },
    {
      "cell_type": "code",
      "source": [
        "# Example 3: Stateful Function Objects\n",
        "class Counter:\n",
        "    def __init__(self):\n",
        "        self.count = 0\n",
        "\n",
        "    def __call__(self):\n",
        "        self.count += 1\n",
        "        print(f\"Count = {self.count}\")\n",
        "\n",
        "c = Counter()\n",
        "c()   # Count = 1\n",
        "c()   # Count = 2\n",
        "c()   # Count = 3\n"
      ],
      "metadata": {
        "id": "bNdDABwfd0ne"
      },
      "execution_count": null,
      "outputs": []
    },
    {
      "cell_type": "markdown",
      "source": [
        "Why use __call__?\n",
        "\n",
        "Cleaner API design → Objects can act like functions.\n",
        "\n",
        "Stateful functions → Unlike plain functions, callable objects can store state.\n",
        "\n",
        "Used in decorators, callbacks, ML models, etc.\n",
        "(e.g., in PyTorch, nn.Module subclasses use __call__ to run forward passes)"
      ],
      "metadata": {
        "id": "AuaODfR6d5mc"
      }
    },
    {
      "cell_type": "code",
      "source": [
        "'''1.  Create a parent class Animal with a method speak() that prints a\n",
        "generic message. Create a child class Dog that overrides the speak() method to\n",
        "print \"Bark!\".'''\n",
        "\n",
        "# Parent class\n",
        "class Animal:\n",
        "    def speak(self):\n",
        "        print(\"Animal makes a sound\")\n",
        "\n",
        "# Child class\n",
        "class Dog(Animal):\n",
        "    def speak(self):\n",
        "        print(\"Bark!\")   # overrides parent method\n",
        "\n",
        "# Example usage\n",
        "a = Animal()\n",
        "a.speak()\n",
        "\n",
        "d = Dog()\n",
        "d.speak()\n"
      ],
      "metadata": {
        "id": "GXhdSq7Cg0PW"
      },
      "execution_count": null,
      "outputs": []
    },
    {
      "cell_type": "code",
      "source": [
        "'''2. Write a program to create an abstract class Shape with a method area().\n",
        "Derive classes Circle and Rectangle from it and implement the area() method in\n",
        "both.'''\n",
        "\n",
        "from abc import ABC, abstractmethod\n",
        "import math\n",
        "\n",
        "# Abstract class\n",
        "class Shape(ABC):\n",
        "    @abstractmethod\n",
        "    def area(self):\n",
        "        pass\n",
        "\n",
        "# Circle class\n",
        "class Circle(Shape):\n",
        "    def __init__(self, radius):\n",
        "        self.radius = radius\n",
        "\n",
        "    def area(self):\n",
        "        return math.pi * self.radius * self.radius\n",
        "\n",
        "# Rectangle class\n",
        "class Rectangle(Shape):\n",
        "    def __init__(self, length, width):\n",
        "        self.length = length\n",
        "        self.width = width\n",
        "\n",
        "    def area(self):\n",
        "        return self.length * self.width\n",
        "\n",
        "# Example usage\n",
        "c = Circle(5)\n",
        "print(\"Circle Area:\", c.area())\n",
        "\n",
        "r = Rectangle(4, 6)\n",
        "print(\"Rectangle Area:\", r.area())\n"
      ],
      "metadata": {
        "colab": {
          "base_uri": "https://localhost:8080/"
        },
        "id": "6H9Kg2v-2IL7",
        "outputId": "c4d41521-51fc-4c68-fcc6-410be3f21247"
      },
      "execution_count": null,
      "outputs": [
        {
          "output_type": "stream",
          "name": "stdout",
          "text": [
            "Circle Area: 78.53981633974483\n",
            "Rectangle Area: 24\n"
          ]
        }
      ]
    },
    {
      "cell_type": "code",
      "source": [
        "'''3. Implement a multi-level inheritance scenario where a class Vehicle has an\n",
        "attribute type. Derive a class Car and further derive a class ElectricCar that\n",
        "adds a battery attribute.'''\n",
        "\n",
        "# Base class\n",
        "class Vehicle:\n",
        "    def __init__(self, v_type):\n",
        "        self.type = v_type\n",
        "\n",
        "    def display_type(self):\n",
        "        print(\"Vehicle Type:\", self.type)\n",
        "\n",
        "\n",
        "# Derived class from Vehicle\n",
        "class Car(Vehicle):\n",
        "    def __init__(self, v_type, brand):\n",
        "        super().__init__(v_type)\n",
        "        self.brand = brand\n",
        "\n",
        "    def display_info(self):\n",
        "        print(f\"Car Brand: {self.brand}, Type: {self.type}\")\n",
        "\n",
        "\n",
        "# Further derived class from Car\n",
        "class ElectricCar(Car):\n",
        "    def __init__(self, v_type, brand, battery_capacity):\n",
        "        super().__init__(v_type, brand)\n",
        "        self.battery = battery_capacity\n",
        "\n",
        "    def display_details(self):\n",
        "        print(f\"Electric Car Brand: {self.brand}, Type: {self.type}, Battery: {self.battery} kWh\")\n",
        "\n",
        "\n",
        "# Example usage\n",
        "v = Vehicle(\"Transport\")\n",
        "v.display_type()\n",
        "\n",
        "c = Car(\"Sedan\", \"Toyota\")\n",
        "c.display_info()\n",
        "\n",
        "e = ElectricCar(\"Sedan\", \"Tesla\", 75)\n",
        "e.display_details()\n"
      ],
      "metadata": {
        "colab": {
          "base_uri": "https://localhost:8080/"
        },
        "id": "mnLnm8uM2ozE",
        "outputId": "f65606b2-c06c-42b1-9050-d894ccf33b8e"
      },
      "execution_count": null,
      "outputs": [
        {
          "output_type": "stream",
          "name": "stdout",
          "text": [
            "Vehicle Type: Transport\n",
            "Car Brand: Toyota, Type: Sedan\n",
            "Electric Car Brand: Tesla, Type: Sedan, Battery: 75 kWh\n"
          ]
        }
      ]
    },
    {
      "cell_type": "code",
      "source": [
        "'''4.  Demonstrate polymorphism by creating a base class Bird with a\n",
        "method fly(). Create two derived classes Sparrow and Penguin that override\n",
        "the fly() method.'''\n",
        "\n",
        "# Base class\n",
        "class Bird:\n",
        "    def fly(self):\n",
        "        print(\"Some birds can fly, some cannot.\")\n",
        "\n",
        "# Derived class - Sparrow\n",
        "class Sparrow(Bird):\n",
        "    def fly(self):\n",
        "        print(\"Sparrow can fly high in the sky!\")\n",
        "\n",
        "# Derived class - Penguin\n",
        "class Penguin(Bird):\n",
        "    def fly(self):\n",
        "        print(\"Penguin cannot fly, but it swims very well!\")\n",
        "\n",
        "# Polymorphism demonstration\n",
        "birds = [Sparrow(), Penguin()]\n",
        "\n",
        "for bird in birds:\n",
        "    bird.fly()   # Calls the overridden method depending on the object type\n",
        "\n"
      ],
      "metadata": {
        "colab": {
          "base_uri": "https://localhost:8080/"
        },
        "id": "E3rqINbW21Ly",
        "outputId": "283dcae6-0f09-46a8-a496-5721384c7229"
      },
      "execution_count": null,
      "outputs": [
        {
          "output_type": "stream",
          "name": "stdout",
          "text": [
            "Sparrow can fly high in the sky!\n",
            "Penguin cannot fly, but it swims very well!\n"
          ]
        }
      ]
    },
    {
      "cell_type": "code",
      "source": [
        "'''5. Write a program to demonstrate encapsulation by creating a class\n",
        "BankAccount with private attributes\n",
        "balance and methods to deposit, withdraw, and check balance.'''\n",
        "\n",
        "class BankAccount:\n",
        "    def __init__(self, initial_balance=0):\n",
        "        self.__balance = initial_balance   # private attribute\n",
        "\n",
        "    # Method to deposit money\n",
        "    def deposit(self, amount):\n",
        "        if amount > 0:\n",
        "            self.__balance += amount\n",
        "            print(f\"Deposited: {amount}\")\n",
        "        else:\n",
        "            print(\"Deposit amount must be positive.\")\n",
        "\n",
        "    # Method to withdraw money\n",
        "    def withdraw(self, amount):\n",
        "        if 0 < amount <= self.__balance:\n",
        "            self.__balance -= amount\n",
        "            print(f\"Withdrew: {amount}\")\n",
        "        else:\n",
        "            print(\"Invalid withdrawal amount or insufficient balance.\")\n",
        "\n",
        "    # Method to check balance\n",
        "    def get_balance(self):\n",
        "        return self.__balance\n",
        "\n",
        "\n",
        "# Example usage\n",
        "account = BankAccount(1000)\n",
        "\n",
        "account.deposit(500)        # Deposited: 500\n",
        "account.withdraw(300)       # Withdrew: 300\n",
        "print(\"Current Balance:\", account.get_balance())  # Current Balance: 1200\n",
        "\n",
        "# Trying to access private attribute directly\n",
        "# print(account.__balance)  # ❌ AttributeError (Encapsulation hides it)\n"
      ],
      "metadata": {
        "colab": {
          "base_uri": "https://localhost:8080/"
        },
        "id": "dSAD4a3O3Rk7",
        "outputId": "263c9b26-08b7-4ce6-ac98-4d4a9fa55fb5"
      },
      "execution_count": null,
      "outputs": [
        {
          "output_type": "stream",
          "name": "stdout",
          "text": [
            "Deposited: 500\n",
            "Withdrew: 300\n",
            "Current Balance: 1200\n"
          ]
        }
      ]
    },
    {
      "cell_type": "code",
      "source": [
        "'''6.  Demonstrate runtime polymorphism using a method play() in a base\n",
        "class Instrument. Derive classes Guitar and Piano that implement their\n",
        "own version of play().'''\n",
        "\n",
        "# Base class\n",
        "class Instrument:\n",
        "    def play(self):\n",
        "        print(\"Instrument is being played.\")\n",
        "\n",
        "# Derived class - Guitar\n",
        "class Guitar(Instrument):\n",
        "    def play(self):\n",
        "        print(\"Strumming the guitar 🎸\")\n",
        "\n",
        "# Derived class - Piano\n",
        "class Piano(Instrument):\n",
        "    def play(self):\n",
        "        print(\"Playing the piano 🎹\")\n",
        "\n",
        "# Runtime Polymorphism\n",
        "def play_instrument(instr: Instrument):\n",
        "    instr.play()   # Calls the overridden method depending on object type\n",
        "\n",
        "\n",
        "# Example usage\n",
        "instruments = [Guitar(), Piano()]\n",
        "\n",
        "for instr in instruments:\n",
        "    play_instrument(instr)\n"
      ],
      "metadata": {
        "colab": {
          "base_uri": "https://localhost:8080/"
        },
        "id": "uV6aqfW53yo_",
        "outputId": "41a1397f-663b-4a16-869e-5a0b1aa17049"
      },
      "execution_count": null,
      "outputs": [
        {
          "output_type": "stream",
          "name": "stdout",
          "text": [
            "Strumming the guitar 🎸\n",
            "Playing the piano 🎹\n"
          ]
        }
      ]
    },
    {
      "cell_type": "code",
      "source": [
        "'''7. Create a class MathOperations with a class method add_numbers() to add two\n",
        "numbers and a static method subtract_numbers() to subtract two numbers.'''\n",
        "\n",
        "class MathOperations:\n",
        "    # Class Method\n",
        "    @classmethod\n",
        "    def add_numbers(cls, a, b):\n",
        "        return a + b\n",
        "\n",
        "    # Static Method\n",
        "    @staticmethod\n",
        "    def subtract_numbers(a, b):\n",
        "        return a - b\n",
        "\n",
        "\n",
        "# Example usage\n",
        "print(\"Addition:\", MathOperations.add_numbers(10, 5))     # 15\n",
        "print(\"Subtraction:\", MathOperations.subtract_numbers(10, 5))  # 5\n"
      ],
      "metadata": {
        "colab": {
          "base_uri": "https://localhost:8080/"
        },
        "id": "-Xxjt7ex5sZY",
        "outputId": "201defa2-f1dd-4a38-fcc7-080943914cf0"
      },
      "execution_count": null,
      "outputs": [
        {
          "output_type": "stream",
          "name": "stdout",
          "text": [
            "Addition: 15\n",
            "Subtraction: 5\n"
          ]
        }
      ]
    },
    {
      "cell_type": "code",
      "source": [
        "'''8. Implement a class Person with a class method to count the total number of\n",
        "persons created.'''\n",
        "\n",
        "class Person:\n",
        "    # Class variable to keep track of number of persons\n",
        "    count = 0\n",
        "\n",
        "    def __init__(self, name):\n",
        "        self.name = name\n",
        "        Person.count += 1   # Increment count whenever a new Person is created\n",
        "\n",
        "    # Class method to get total persons created\n",
        "    @classmethod\n",
        "    def total_persons(cls):\n",
        "        return cls.count\n",
        "\n",
        "\n",
        "# Example usage\n",
        "p1 = Person(\"Alice\")\n",
        "p2 = Person(\"Bob\")\n",
        "p3 = Person(\"Charlie\")\n",
        "\n",
        "print(\"Total persons created:\", Person.total_persons())  # Output: 3\n"
      ],
      "metadata": {
        "colab": {
          "base_uri": "https://localhost:8080/"
        },
        "id": "mQEoXYE45x7c",
        "outputId": "dcc77edf-dd78-4c19-84f9-1406d29de80c"
      },
      "execution_count": null,
      "outputs": [
        {
          "output_type": "stream",
          "name": "stdout",
          "text": [
            "Total persons created: 3\n"
          ]
        }
      ]
    },
    {
      "cell_type": "code",
      "source": [
        "'''9. Write a class Fraction with attributes numerator and denominator.\n",
        "Override the str method to display the fraction as \"numerator/denominator\".'''\n",
        "\n",
        "class Fraction:\n",
        "    def __init__(self, numerator, denominator):\n",
        "        self.numerator = numerator\n",
        "        self.denominator = denominator\n",
        "\n",
        "    # Overriding __str__ to display nicely\n",
        "    def __str__(self):\n",
        "        return f\"{self.numerator}/{self.denominator}\"\n",
        "\n",
        "\n",
        "# Example usage\n",
        "f1 = Fraction(3, 4)\n",
        "f2 = Fraction(7, 2)\n",
        "\n",
        "print(f1)\n",
        "print(f2)\n"
      ],
      "metadata": {
        "colab": {
          "base_uri": "https://localhost:8080/"
        },
        "id": "_UlR9l_J50O5",
        "outputId": "4a1ca723-aa8c-4885-eec8-0c97ffcf4390"
      },
      "execution_count": null,
      "outputs": [
        {
          "output_type": "stream",
          "name": "stdout",
          "text": [
            "3/4\n",
            "7/2\n"
          ]
        }
      ]
    },
    {
      "cell_type": "code",
      "source": [
        "''''10. Demonstrate operator overloading by creating a class Vector and\n",
        "overriding the add method to add two vectors.'''\n",
        "\n",
        "class Vector:\n",
        "    def __init__(self, x, y):\n",
        "        self.x = x\n",
        "        self.y = y\n",
        "\n",
        "    # Operator overloading for +\n",
        "    def __add__(self, other):\n",
        "        return Vector(self.x + other.x, self.y + other.y)\n",
        "\n",
        "    # Nicely display the vector\n",
        "    def __str__(self):\n",
        "        return f\"Vector({self.x}, {self.y})\"\n",
        "\n",
        "\n",
        "# Example usage\n",
        "v1 = Vector(2, 3)\n",
        "v2 = Vector(4, 5)\n",
        "\n",
        "v3 = v1 + v2   # Uses __add__\n",
        "\n",
        "print(v1)\n",
        "print(v2)\n",
        "print(v3)\n"
      ],
      "metadata": {
        "colab": {
          "base_uri": "https://localhost:8080/"
        },
        "id": "QaBcG1X952ak",
        "outputId": "d935f90b-b07f-4813-c1b1-4a59cbf14e5f"
      },
      "execution_count": null,
      "outputs": [
        {
          "output_type": "stream",
          "name": "stdout",
          "text": [
            "Vector(2, 3)\n",
            "Vector(4, 5)\n",
            "Vector(6, 8)\n"
          ]
        }
      ]
    },
    {
      "cell_type": "code",
      "source": [
        "'''11. Create a class Person with attributes name and age. Add a method greet()\n",
        "that prints \"Hello, my name is {name} and I am {age} years old.\"'''\n",
        "\n",
        "class Person:\n",
        "    def __init__(self, name, age):\n",
        "        self.name = name\n",
        "        self.age = age\n",
        "\n",
        "    def greet(self):\n",
        "        print(f\"Hello, my name is {self.name} and I am {self.age} years old.\")\n",
        "\n",
        "\n",
        "# Example usage\n",
        "p1 = Person(\"Taru\", 26)\n",
        "p2 = Person(\"Ravi\", 30)\n",
        "\n",
        "p1.greet()   # Hello, my name is Taru and I am 26 years old.\n",
        "p2.greet()   # Hello, my name is Ravi and I am 30 years old."
      ],
      "metadata": {
        "colab": {
          "base_uri": "https://localhost:8080/"
        },
        "id": "T6suW5hA56do",
        "outputId": "5514ce15-0f4e-4643-e5fd-28056db90cdd"
      },
      "execution_count": null,
      "outputs": [
        {
          "output_type": "stream",
          "name": "stdout",
          "text": [
            "Hello, my name is Taru and I am 26 years old.\n",
            "Hello, my name is Ravi and I am 30 years old.\n"
          ]
        }
      ]
    },
    {
      "cell_type": "code",
      "source": [
        "'''12. Implement a class Student with attributes name and grades.\n",
        "Create a method average_grade() to compute the average of the grades.'''\n",
        "\n",
        "class Student:\n",
        "    def __init__(self, name, grades):\n",
        "        self.name = name\n",
        "        self.grades = grades\n",
        "\n",
        "    def average_grade(self):\n",
        "        if not self.grades:  # Handle empty grades list\n",
        "            return 0\n",
        "        return sum(self.grades) / len(self.grades)\n",
        "\n",
        "# Example usage\n",
        "student1 = Student(\"Alice\", [85, 90, 92, 88])\n",
        "student2 = Student(\"Bob\", [70, 75, 80, 65])\n",
        "\n",
        "print(f\"{student1.name}'s average grade: {student1.average_grade()}\")\n",
        "print(f\"{student2.name}'s average grade: {student2.average_grade()}\")"
      ],
      "metadata": {
        "colab": {
          "base_uri": "https://localhost:8080/"
        },
        "id": "mp-SLBDE582E",
        "outputId": "aff4b42a-f2b5-4fa0-e744-02fa9d7414c3"
      },
      "execution_count": null,
      "outputs": [
        {
          "output_type": "stream",
          "name": "stdout",
          "text": [
            "Alice's average grade: 88.75\n",
            "Bob's average grade: 72.5\n"
          ]
        }
      ]
    },
    {
      "cell_type": "code",
      "source": [
        "'''13. Create a class Rectangle with methods set_dimensions() to set the\n",
        "dimensions and area() to calculate the area.'''\n",
        "\n",
        "class Rectangle:\n",
        "    def __init__(self):\n",
        "        self.length = 0\n",
        "        self.width = 0\n",
        "\n",
        "    def set_dimensions(self, length, width):\n",
        "        self.length = length\n",
        "        self.width = width\n",
        "\n",
        "    def area(self):\n",
        "        return self.length * self.width\n",
        "\n",
        "# Example usage\n",
        "rectangle1 = Rectangle()\n",
        "rectangle1.set_dimensions(10, 5)\n",
        "print(f\"Rectangle Area: {rectangle1.area()}\")\n",
        "\n",
        "rectangle2 = Rectangle()\n",
        "rectangle2.set_dimensions(7, 9)\n",
        "print(f\"Rectangle Area: {rectangle2.area()}\")"
      ],
      "metadata": {
        "id": "U9q3vM0K5_Px",
        "colab": {
          "base_uri": "https://localhost:8080/"
        },
        "outputId": "0e27eb2c-bf1b-49bb-ad65-dc35b0c81eb3"
      },
      "execution_count": 6,
      "outputs": [
        {
          "output_type": "stream",
          "name": "stdout",
          "text": [
            "Rectangle Area: 50\n",
            "Rectangle Area: 63\n"
          ]
        }
      ]
    },
    {
      "cell_type": "code",
      "source": [
        "'''14. Create a class Employee with a method calculate_salary() that computes\n",
        "the salary based on hours worked and hourly rate. Create a derived class\n",
        "Manager that adds a bonus to the salary.'''\n",
        "\n",
        "# Base class\n",
        "class Employee:\n",
        "    def __init__(self, hours_worked, hourly_rate):\n",
        "        self.hours_worked = hours_worked\n",
        "        self.hourly_rate = hourly_rate\n",
        "\n",
        "    def calculate_salary(self):\n",
        "        return self.hours_worked * self.hourly_rate\n",
        "\n",
        "\n",
        "# Derived class\n",
        "class Manager(Employee):\n",
        "    def __init__(self, hours_worked, hourly_rate, bonus):\n",
        "        super().__init__(hours_worked, hourly_rate)  # initialize Employee attributes\n",
        "        self.bonus = bonus\n",
        "\n",
        "    def calculate_salary(self):\n",
        "        return super().calculate_salary() + self.bonus\n",
        "\n",
        "\n",
        "# Example usage\n",
        "emp = Employee(40, 200)        # 40 hrs × ₹200 = ₹8000\n",
        "mgr = Manager(40, 200, 5000)   # base salary + bonus\n",
        "\n",
        "print(\"Employee Salary:\", emp.calculate_salary())\n",
        "print(\"Manager Salary:\", mgr.calculate_salary())\n"
      ],
      "metadata": {
        "id": "0blv-b5l6BgI",
        "colab": {
          "base_uri": "https://localhost:8080/"
        },
        "outputId": "705c009c-a983-4b9f-b35e-7a0591bed0ff"
      },
      "execution_count": 7,
      "outputs": [
        {
          "output_type": "stream",
          "name": "stdout",
          "text": [
            "Employee Salary: 8000\n",
            "Manager Salary: 13000\n"
          ]
        }
      ]
    },
    {
      "cell_type": "code",
      "source": [
        "'''15. Create a class Product with attributes name, price, and quantity.\n",
        "Implement a method total_price() that calculates the total price of the\n",
        "product.'''\n",
        "\n",
        "class Product:\n",
        "    def __init__(self, name, price, quantity):\n",
        "        self.name = name\n",
        "        self.price = price\n",
        "        self.quantity = quantity\n",
        "\n",
        "    def total_price(self):\n",
        "        return self.price * self.quantity\n",
        "\n",
        "\n",
        "# Example usage\n",
        "p1 = Product(\"Laptop\", 60000, 2)\n",
        "p2 = Product(\"Headphones\", 1500, 3)\n",
        "\n",
        "print(f\"Total price of {p1.name}: ₹{p1.total_price()}\")   # 120000\n",
        "print(f\"Total price of {p2.name}: ₹{p2.total_price()}\")   # 4500\n"
      ],
      "metadata": {
        "id": "nToFei3U6UO5",
        "colab": {
          "base_uri": "https://localhost:8080/"
        },
        "outputId": "e9125070-9c0d-4631-96a2-574d43a81d4c"
      },
      "execution_count": 8,
      "outputs": [
        {
          "output_type": "stream",
          "name": "stdout",
          "text": [
            "Total price of Laptop: ₹120000\n",
            "Total price of Headphones: ₹4500\n"
          ]
        }
      ]
    },
    {
      "cell_type": "code",
      "source": [
        "'''16. Create a class Animal with an abstract method sound().\n",
        "Create two derived classes Cow and Sheep that implement the sound() method.'''\n",
        "\n",
        "from abc import ABC, abstractmethod\n",
        "\n",
        "# Abstract class\n",
        "class Animal(ABC):\n",
        "    @abstractmethod\n",
        "    def sound(self):\n",
        "        pass\n",
        "\n",
        "\n",
        "# Derived class Cow\n",
        "class Cow(Animal):\n",
        "    def sound(self):\n",
        "        return \"Moo\"\n",
        "\n",
        "\n",
        "# Derived class Sheep\n",
        "class Sheep(Animal):\n",
        "    def sound(self):\n",
        "        return \"Baa\"\n",
        "\n",
        "\n",
        "# Example usage\n",
        "cow = Cow()\n",
        "sheep = Sheep()\n",
        "\n",
        "print(\"Cow says:\", cow.sound())     # Moo\n",
        "print(\"Sheep says:\", sheep.sound()) # Baa\n"
      ],
      "metadata": {
        "colab": {
          "base_uri": "https://localhost:8080/"
        },
        "id": "FSVGRKyvB9Fh",
        "outputId": "f8a10be9-ba8d-4641-92b5-b641977a30e8"
      },
      "execution_count": null,
      "outputs": [
        {
          "output_type": "stream",
          "name": "stdout",
          "text": [
            "Cow says: Moo\n",
            "Sheep says: Baa\n"
          ]
        }
      ]
    },
    {
      "cell_type": "code",
      "source": [
        "'''17. Create a class Book with attributes title, author, and year_published.\n",
        "Add a method get_book_info() that returns a formatted string with the book's\n",
        "details.'''\n",
        "\n",
        "class Book:\n",
        "    def __init__(self, title, author, year_published):\n",
        "        self.title = title\n",
        "        self.author = author\n",
        "        self.year_published = year_published\n",
        "\n",
        "    def get_book_info(self):\n",
        "        return f\"'{self.title}' by {self.author}, published in {self.year_published}\"\n",
        "\n",
        "\n",
        "# Example usage\n",
        "b1 = Book(\"The Alchemist\", \"Paulo Coelho\", 1988)\n",
        "b2 = Book(\"Wings of Fire\", \"A. P. J. Abdul Kalam\", 1999)\n",
        "\n",
        "print(b1.get_book_info())\n",
        "print(b2.get_book_info())\n"
      ],
      "metadata": {
        "id": "8DuRZC6S6ZdC",
        "colab": {
          "base_uri": "https://localhost:8080/"
        },
        "outputId": "ea3decea-356c-487d-eea3-5bfe50f17b7e"
      },
      "execution_count": null,
      "outputs": [
        {
          "output_type": "stream",
          "name": "stdout",
          "text": [
            "'The Alchemist' by Paulo Coelho, published in 1988\n",
            "'Wings of Fire' by A. P. J. Abdul Kalam, published in 1999\n"
          ]
        }
      ]
    },
    {
      "cell_type": "code",
      "source": [
        "'''18. Create a class House with attributes address and price.\n",
        "Create a derived class Mansion that adds an attribute number_of_rooms.'''\n",
        "\n",
        "# Base class\n",
        "class House:\n",
        "    def __init__(self, address, price):\n",
        "        self.address = address\n",
        "        self.price = price\n",
        "\n",
        "\n",
        "# Derived class\n",
        "class Mansion(House):\n",
        "    def __init__(self, address, price, number_of_rooms):\n",
        "        super().__init__(address, price)   # Initialize House attributes\n",
        "        self.number_of_rooms = number_of_rooms\n",
        "\n",
        "\n",
        "# Example usage\n",
        "h1 = House(\"123 Main Street\", 5000000)\n",
        "m1 = Mansion(\"456 Luxury Ave\", 25000000, 20)\n",
        "\n",
        "print(f\"House -> Address: {h1.address}, Price: ₹{h1.price}\")\n",
        "print(f\"Mansion -> Address: {m1.address}, Price: ₹{m1.price},Rooms: {m1.number_of_rooms}\")\n"
      ],
      "metadata": {
        "id": "YNgBrM0E6eFA",
        "colab": {
          "base_uri": "https://localhost:8080/"
        },
        "outputId": "f2235909-d3b8-450a-ee44-774d3860c64a"
      },
      "execution_count": null,
      "outputs": [
        {
          "output_type": "stream",
          "name": "stdout",
          "text": [
            "House -> Address: 123 Main Street, Price: ₹5000000\n",
            "Mansion -> Address: 456 Luxury Ave, Price: ₹25000000,Rooms: 20\n"
          ]
        }
      ]
    }
  ]
}